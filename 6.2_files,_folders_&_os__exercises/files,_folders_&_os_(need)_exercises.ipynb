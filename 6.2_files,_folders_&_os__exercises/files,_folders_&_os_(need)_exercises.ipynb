{
 "cells": [
  {
   "attachments": {},
   "cell_type": "markdown",
   "id": "123456",
   "metadata": {},
   "source": [
    "<div style=\"text-align:left;font-size:2em\"><span style=\"font-weight:bolder;font-size:1.25em\">SP2273 | Learning Portfolio</span><br><br><span style=\"font-weight:bold;color:darkred\">Files, Folders & OS (Need) Exercises</span></div>"
   ]
  },
  {
   "cell_type": "markdown",
   "id": "65d473d6",
   "metadata": {},
   "source": [
    "## Exercise 1 (Tidying a collaboration)"
   ]
  },
  {
   "cell_type": "markdown",
   "id": "5a1aeff2",
   "metadata": {},
   "source": [
    "Task 1"
   ]
  },
  {
   "cell_type": "markdown",
   "id": "8a83cf60",
   "metadata": {},
   "source": [
    "Task 2"
   ]
  },
  {
   "cell_type": "markdown",
   "id": "81acc280",
   "metadata": {},
   "source": [
    "Task 3"
   ]
  },
  {
   "cell_type": "markdown",
   "id": "46a1a131",
   "metadata": {},
   "source": [
    "Task 4"
   ]
  },
  {
   "cell_type": "markdown",
   "id": "d5cb91d3",
   "metadata": {},
   "source": [
    "Task 5"
   ]
  },
  {
   "cell_type": "markdown",
   "id": "c2f4f008",
   "metadata": {},
   "source": [
    "Task 6"
   ]
  },
  {
   "cell_type": "markdown",
   "id": "02f1e719",
   "metadata": {},
   "source": [
    "Task 7"
   ]
  }
 ],
 "metadata": {
  "kernelspec": {
   "display_name": "Python 3",
   "language": "python",
   "name": "python3"
  },
  "language_info": {
   "codemirror_mode": {
    "name": "ipython",
    "version": 3
   },
   "file_extension": ".py",
   "mimetype": "text/x-python",
   "name": "python",
   "nbconvert_exporter": "python",
   "pygments_lexer": "ipython3",
   "version": "3.10.6 (main, Nov 14 2022, 16:10:14) [GCC 11.3.0]"
  },
  "toc": {
   "base_numbering": 1,
   "nav_menu": {},
   "number_sections": true,
   "sideBar": true,
   "skip_h1_title": false,
   "title_cell": "Table of Contents",
   "title_sidebar": "Contents",
   "toc_cell": false,
   "toc_position": {},
   "toc_section_display": true,
   "toc_window_display": false
  },
  "vscode": {
   "interpreter": {
    "hash": "31f2aee4e71d21fbe5cf8b01ff0e069b9275f58929596ceb00d14d90e3e16cd6"
   }
  }
 },
 "nbformat": 4,
 "nbformat_minor": 5
}
