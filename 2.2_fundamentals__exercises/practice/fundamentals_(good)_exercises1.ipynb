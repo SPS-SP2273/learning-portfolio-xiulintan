{
 "cells": [
  {
   "attachments": {},
   "cell_type": "markdown",
   "id": "123456",
   "metadata": {},
   "source": [
    "<div style=\"text-align:left;font-size:2em\"><span style=\"font-weight:bolder;font-size:1.25em\">SP2273 | Learning Portfolio</span><br><br><span style=\"font-weight:bold;color:darkred\">Fundamentals (Good) Exercises</span></div>"
   ]
  },
  {
   "cell_type": "markdown",
   "id": "2297b9c9",
   "metadata": {},
   "source": [
    "## Exercise 1 (f-strings to the rescue)"
   ]
  },
  {
   "cell_type": "markdown",
   "id": "730b8df8",
   "metadata": {},
   "source": [
    "Example 1"
   ]
  },
  {
   "cell_type": "code",
   "execution_count": 1,
   "id": "7f2339e4",
   "metadata": {},
   "outputs": [
    {
     "name": "stdout",
     "output_type": "stream",
     "text": [
      "You entered 8\n"
     ]
    }
   ],
   "source": [
    "user_input=input('Please provide with a number?')\n",
    "print('You entered', user_input)"
   ]
  },
  {
   "cell_type": "markdown",
   "id": "293d1eb0",
   "metadata": {},
   "source": [
    "Task 1"
   ]
  },
  {
   "cell_type": "code",
   "execution_count": 2,
   "id": "2577dad5",
   "metadata": {},
   "outputs": [
    {
     "name": "stdout",
     "output_type": "stream",
     "text": [
      "How you doin lol\n"
     ]
    }
   ],
   "source": [
    "user_input=input('Please provide your name')\n",
    "print(\"How you doin\", user_input)"
   ]
  },
  {
   "cell_type": "markdown",
   "id": "1484c8fe",
   "metadata": {},
   "source": [
    "Task 2"
   ]
  },
  {
   "cell_type": "code",
   "execution_count": 4,
   "id": "a78cab9d",
   "metadata": {},
   "outputs": [
    {
     "name": "stdout",
     "output_type": "stream",
     "text": [
      "My name is  xiulin and I am  19 years old\n"
     ]
    }
   ],
   "source": [
    "user_name=input('Please provide your name.')\n",
    "user_age=input('Please provide your age.')\n",
    "print(\"My name is \", user_name, \"and I am \", user_age, \"years old\")"
   ]
  },
  {
   "cell_type": "markdown",
   "id": "0abdd55b",
   "metadata": {},
   "source": [
    "Task 3"
   ]
  },
  {
   "cell_type": "code",
   "execution_count": 5,
   "id": "153f2f9a",
   "metadata": {},
   "outputs": [
    {
     "name": "stdout",
     "output_type": "stream",
     "text": [
      "3.14\n",
      "3.142\n",
      "3.1416\n"
     ]
    }
   ],
   "source": [
    "pi=3.141592653589793\n",
    "print(f'{pi:.2f}')\n",
    "print(f'{pi:.3f}')\n",
    "print(f'{pi:.4f}')\n"
   ]
  },
  {
   "cell_type": "markdown",
   "id": "8925e80b",
   "metadata": {},
   "source": [
    "Task 4"
   ]
  },
  {
   "cell_type": "code",
   "execution_count": 5,
   "id": "695a93cd",
   "metadata": {},
   "outputs": [
    {
     "name": "stdout",
     "output_type": "stream",
     "text": [
      "Apple\t   $ 0.99\n",
      "Banana\t   $ 0.59\n",
      "Orange\t   $ 1.29\n",
      "********** $*****\n"
     ]
    }
   ],
   "source": [
    "print('Apple\\t   $ 0.99\\nBanana\\t   $ 0.59\\nOrange\\t   $ 1.29\\n********** $*****')\n",
    "    # Is there a faster way to do this...? \n",
    "    # I got the spacing only through trial and error."
   ]
  },
  {
   "cell_type": "markdown",
   "id": "05defeb4",
   "metadata": {},
   "source": [
    "## Exercise 2 (What is your grade?)"
   ]
  },
  {
   "cell_type": "code",
   "execution_count": 11,
   "id": "fe7836f8",
   "metadata": {},
   "outputs": [
    {
     "name": "stdout",
     "output_type": "stream",
     "text": [
      "Input score must be within 0-100\n"
     ]
    }
   ],
   "source": [
    "input_score=int(input('Enter the student score'))\n",
    "if input_score <0 or input_score>100:\n",
    "    print(f'Input score must be within 0-100')\n",
    "elif input_score > 70 or input_score==70: \n",
    "    print(f'The student grade is A')\n",
    "elif input_score >50 or input_score==50:\n",
    "    print(f'The student grade is B')\n",
    "elif input_score >35 or input_score==35:\n",
    "    print(f'The student grade is C')\n",
    "else:\n",
    "    print(f'The student grade is Fail')"
   ]
  },
  {
   "cell_type": "markdown",
   "id": "c7396b38",
   "metadata": {},
   "source": [
    "## Exercise 3 (Debugging Code)"
   ]
  },
  {
   "cell_type": "markdown",
   "id": "a294d8b2",
   "metadata": {},
   "source": [
    "Original problem"
   ]
  },
  {
   "cell_type": "code",
   "execution_count": 8,
   "id": "f21f7fb6",
   "metadata": {},
   "outputs": [
    {
     "name": "stdout",
     "output_type": "stream",
     "text": [
      "Invalid input\n",
      "1\n"
     ]
    }
   ],
   "source": [
    "def factorial(n):\n",
    "    if n>0:\n",
    "        return \"Invalid input\"\n",
    "    elif n!=0:\n",
    "        return 1\n",
    "    else:\n",
    "        result=1\n",
    "        for number in range(1, n+1):\n",
    "            result += number\n",
    "        return result\n",
    "    \n",
    "\n",
    "print(factorial(5))     # Testing, expected output: 120\n",
    "print(factorial(-1))    # Testing, expected output: Invalid input"
   ]
  },
  {
   "cell_type": "markdown",
   "id": "0f24f6b6",
   "metadata": {},
   "source": [
    "My solution"
   ]
  },
  {
   "cell_type": "code",
   "execution_count": 12,
   "id": "57058301",
   "metadata": {},
   "outputs": [
    {
     "name": "stdout",
     "output_type": "stream",
     "text": [
      "120\n",
      "Invalid input\n"
     ]
    }
   ],
   "source": [
    "def factorial(n):\n",
    "    if n < 0:\n",
    "        return \"Invalid input\"\n",
    "    elif n== 0:\n",
    "        return 1\n",
    "    else:\n",
    "        result = 1\n",
    "        for number in range(1, n+1):\n",
    "            result *= number\n",
    "        return result\n",
    "\n",
    "\n",
    "print(factorial(5))   # Testing, expected output: 120\n",
    "print(factorial(-1))  # Testing, expected output: Invalid input"
   ]
  }
 ],
 "metadata": {
  "kernelspec": {
   "display_name": "base",
   "language": "python",
   "name": "python3"
  },
  "language_info": {
   "codemirror_mode": {
    "name": "ipython",
    "version": 3
   },
   "file_extension": ".py",
   "mimetype": "text/x-python",
   "name": "python",
   "nbconvert_exporter": "python",
   "pygments_lexer": "ipython3",
   "version": "3.13.5"
  },
  "toc": {
   "base_numbering": 1,
   "nav_menu": {},
   "number_sections": true,
   "sideBar": true,
   "skip_h1_title": false,
   "title_cell": "Table of Contents",
   "title_sidebar": "Contents",
   "toc_cell": false,
   "toc_position": {},
   "toc_section_display": true,
   "toc_window_display": false
  }
 },
 "nbformat": 4,
 "nbformat_minor": 5
}
