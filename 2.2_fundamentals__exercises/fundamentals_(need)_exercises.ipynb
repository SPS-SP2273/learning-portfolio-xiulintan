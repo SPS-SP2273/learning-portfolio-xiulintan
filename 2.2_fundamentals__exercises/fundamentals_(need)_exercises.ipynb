{
 "cells": [
  {
   "attachments": {},
   "cell_type": "markdown",
   "id": "123456",
   "metadata": {},
   "source": [
    "<div style=\"text-align:left;font-size:2em\"><span style=\"font-weight:bolder;font-size:1.25em\">SP2273 | Learning Portfolio</span><br><br><span style=\"font-weight:bold;color:darkred\">Fundamentals (Need) Exercises</span></div>"
   ]
  },
  {
   "cell_type": "markdown",
   "id": "d181b78f",
   "metadata": {},
   "source": [
    "## Exercise 1 (Total recall?)"
   ]
  },
  {
   "cell_type": "markdown",
   "id": "9d58eb67",
   "metadata": {},
   "source": [
    "1. Using a markdown cell to form a table\n",
    "1. Using math. or np. function to complete basic math equations\n",
    "1. Using if and else to form a conditional code, as well as elif for multiple conditions\n",
    "1. using = to define variables, using == as a \"is it equal\" for a True or False answer\n",
    "\n",
    "1. *print()*\n",
    "1. *indentations are used to separate True and False 'blocks'*\n",
    "1. *''quotations marks are used to change a term from variable to an unquantifiable value/ word.*\n",
    "1. *() are used in calls to function and in mathematics*\n",
    "1. *[] are used for lists of data*\n",
    "1. *{} are used to store data in a 'dictionary as a neat way to store data and quickly access information*\n",
    "1. *the dot. after np or math is used to denote that the function (eg sqrt) belongs to the module*"
   ]
  },
  {
   "cell_type": "markdown",
   "id": "95b3ae0b",
   "metadata": {},
   "source": [
    "## Exercise 2 (Debug me)"
   ]
  },
  {
   "cell_type": "code",
   "execution_count": 5,
   "id": "de40ef01",
   "metadata": {},
   "outputs": [
    {
     "ename": "IndentationError",
     "evalue": "unindent does not match any outer indentation level (<string>, line 5)",
     "output_type": "error",
     "traceback": [
      "  \u001b[36mFile \u001b[39m\u001b[32m<string>:5\u001b[39m\n\u001b[31m    \u001b[39m\u001b[31mPrint(x,y,z)\u001b[39m\n                 ^\n\u001b[31mIndentationError\u001b[39m\u001b[31m:\u001b[39m unindent does not match any outer indentation level\n"
     ]
    }
   ],
   "source": [
    "'Original:'\n",
    "\n",
    "x,y=3,4\n",
    "     z=sqrt(x*2+y**2)\n",
    "    Print(x,y,z) "
   ]
  },
  {
   "cell_type": "code",
   "execution_count": 3,
   "id": "80185d48",
   "metadata": {},
   "outputs": [],
   "source": [
    "import numpy as np"
   ]
  },
  {
   "cell_type": "code",
   "execution_count": 6,
   "id": "e70ee4a3",
   "metadata": {},
   "outputs": [
    {
     "name": "stdout",
     "output_type": "stream",
     "text": [
      "3 4 5\n"
     ]
    }
   ],
   "source": [
    "'My solution:'\n",
    "\n",
    "x,y=3,4\n",
    "z= np.sqrt(x**2 + y**2)     # Indentation not required since there is no condition\n",
    "print(x,y,int(z))           # Module like math or numpy required for sqrt function\n",
    "                            # x*2 is multiplication of x by 2 rather than x squared\n",
    "                            # the print function is case sensitive so print() should be used\n",
    "                            # the intial result received was 5.0 so to get the perfect replicate of 3,4,5 an additional function of int() was added\n",
    "\n"
   ]
  },
  {
   "cell_type": "markdown",
   "id": "29f3118e",
   "metadata": {},
   "source": [
    "## Exercise 3 (In your own words)"
   ]
  },
  {
   "cell_type": "markdown",
   "id": "ff85118e",
   "metadata": {},
   "source": [
    "|#|Term|Description|\n",
    "|:---:|:---|:---|\n",
    "|1|Function|Function is a chain of code programmed to perform a specific task or action.|\n",
    "|2|Arguments|Arguments are input data placed into a function to generate an ouput.|\n",
    "|3|Comments|Applied by adding a # in front of the comment, used for explaining the code to readers but does not affect the code.|\n",
    "|4|Indentations|Used to define what to do if the answer is true or false respectively in a if function.|\n",
    "|5|Packages|A module that allows python to access more functions like sqrt via numpy or math.|\n",
    "|6|.|Denotes that a function belongs to a module.|\n",
    "|7|:|Used to define what to do if the answer is true or false respectively in a if function.|\n",
    "|8|[]|Used to enclose a list.|\n",
    "|9|[[],[]]|Used to create subsets within a list. A nested list is a list that has at least one element that is enclosed in a list which allows for associated keys to help extract data. |\n",
    "|10|{}|Used to store data in a dictionary for easy access of information using associated variable.|"
   ]
  },
  {
   "cell_type": "markdown",
   "id": "c307d932",
   "metadata": {},
   "source": [
    "## Exercise 4 (More than one way to divide)"
   ]
  },
  {
   "cell_type": "code",
   "execution_count": 7,
   "id": "3a5a00eb",
   "metadata": {},
   "outputs": [
    {
     "data": {
      "text/plain": [
       "2.5"
      ]
     },
     "execution_count": 7,
     "metadata": {},
     "output_type": "execute_result"
    }
   ],
   "source": [
    "5/2 # This function is a division of 5 by 2,\n",
    "    # producing the result of 2.5"
   ]
  },
  {
   "cell_type": "code",
   "execution_count": 8,
   "id": "ae883105",
   "metadata": {},
   "outputs": [
    {
     "data": {
      "text/plain": [
       "2"
      ]
     },
     "execution_count": 8,
     "metadata": {},
     "output_type": "execute_result"
    }
   ],
   "source": [
    "5//2    # This function divides 5 by 2 and \n",
    "        # rounds the result down \n",
    "        # to the nearest integer"
   ]
  },
  {
   "cell_type": "code",
   "execution_count": 9,
   "id": "40acae67",
   "metadata": {},
   "outputs": [
    {
     "data": {
      "text/plain": [
       "1"
      ]
     },
     "execution_count": 9,
     "metadata": {},
     "output_type": "execute_result"
    }
   ],
   "source": [
    "5%2 # This function generates the remainder \n",
    "    # when 5 is divided by 2"
   ]
  },
  {
   "cell_type": "markdown",
   "id": "df43cf8d",
   "metadata": {},
   "source": [
    "## Good to know"
   ]
  },
  {
   "cell_type": "markdown",
   "id": "233412cc",
   "metadata": {},
   "source": [
    "mutable objects = stored data can be changed eg list <br>\n",
    "immutable objects = stored data can be retrieved but not edited eg tupules"
   ]
  },
  {
   "cell_type": "code",
   "execution_count": 2,
   "id": "4e12a990",
   "metadata": {},
   "outputs": [
    {
     "name": "stdout",
     "output_type": "stream",
     "text": [
      "this\n",
      "is\n",
      "possible\n"
     ]
    }
   ],
   "source": [
    "D={1:\"this\", \n",
    "   \"key\":\"is\",\n",
    "   (3,1,4):\"possible\"}\n",
    "print(D[1])\n",
    "print(D[\"key\"])\n",
    "print(D[(3,1,4)])"
   ]
  }
 ],
 "metadata": {
  "kernelspec": {
   "display_name": "base",
   "language": "python",
   "name": "python3"
  },
  "language_info": {
   "codemirror_mode": {
    "name": "ipython",
    "version": 3
   },
   "file_extension": ".py",
   "mimetype": "text/x-python",
   "name": "python",
   "nbconvert_exporter": "python",
   "pygments_lexer": "ipython3",
   "version": "3.13.5"
  },
  "toc": {
   "base_numbering": 1,
   "nav_menu": {},
   "number_sections": true,
   "sideBar": true,
   "skip_h1_title": false,
   "title_cell": "Table of Contents",
   "title_sidebar": "Contents",
   "toc_cell": false,
   "toc_position": {},
   "toc_section_display": true,
   "toc_window_display": false
  }
 },
 "nbformat": 4,
 "nbformat_minor": 5
}
