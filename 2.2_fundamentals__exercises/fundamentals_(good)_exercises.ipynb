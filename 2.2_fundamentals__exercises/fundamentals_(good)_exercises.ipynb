{
 "cells": [
  {
   "attachments": {},
   "cell_type": "markdown",
   "id": "123456",
   "metadata": {},
   "source": [
    "<div style=\"text-align:left;font-size:2em\"><span style=\"font-weight:bolder;font-size:1.25em\">SP2273 | Learning Portfolio</span><br><br><span style=\"font-weight:bold;color:darkred\">Fundamentals (Good) Exercises</span></div>"
   ]
  },
  {
   "cell_type": "markdown",
   "id": "2297b9c9",
   "metadata": {},
   "source": [
    "## Exercise 1 (f-strings to the rescue)"
   ]
  },
  {
   "cell_type": "markdown",
   "id": "730b8df8",
   "metadata": {},
   "source": [
    "Example 1"
   ]
  },
  {
   "cell_type": "code",
   "execution_count": 13,
   "id": "7f2339e4",
   "metadata": {},
   "outputs": [
    {
     "name": "stdout",
     "output_type": "stream",
     "text": [
      "You entered \n"
     ]
    }
   ],
   "source": [
    "user_input=input('Please provide with a number?')\n",
    "print('You entered', user_input)"
   ]
  },
  {
   "cell_type": "markdown",
   "id": "293d1eb0",
   "metadata": {},
   "source": [
    "Task 1"
   ]
  },
  {
   "cell_type": "code",
   "execution_count": 14,
   "id": "2577dad5",
   "metadata": {},
   "outputs": [
    {
     "name": "stdout",
     "output_type": "stream",
     "text": [
      "How you doin \n"
     ]
    }
   ],
   "source": [
    "user_input=input('Please provide your name')\n",
    "print(\"How you doin\", user_input)"
   ]
  },
  {
   "cell_type": "markdown",
   "id": "1484c8fe",
   "metadata": {},
   "source": [
    "Task 2"
   ]
  },
  {
   "cell_type": "code",
   "execution_count": 9,
   "id": "a78cab9d",
   "metadata": {},
   "outputs": [
    {
     "name": "stdout",
     "output_type": "stream",
     "text": [
      "My name is   and I am   years old\n"
     ]
    }
   ],
   "source": [
    "user_name=input('Please provide your name.')\n",
    "user_age=input('Please provide your name.')\n",
    "print(\"My name is \", user_name, \"and I am \", user_age, \"years old\")"
   ]
  },
  {
   "cell_type": "markdown",
   "id": "0abdd55b",
   "metadata": {},
   "source": [
    "Task 3"
   ]
  },
  {
   "cell_type": "code",
   "execution_count": 12,
   "id": "153f2f9a",
   "metadata": {},
   "outputs": [
    {
     "name": "stdout",
     "output_type": "stream",
     "text": [
      "3.14\n",
      "3.142\n",
      "3.1416\n"
     ]
    }
   ],
   "source": [
    "pi=3.141592653589793\n",
    "print(f'{pi:.2f}')\n",
    "print(f'{pi:.3f}')\n",
    "print(f'{pi:.4f}')\n"
   ]
  },
  {
   "cell_type": "markdown",
   "id": "8925e80b",
   "metadata": {},
   "source": [
    "Task 4"
   ]
  },
  {
   "cell_type": "code",
   "execution_count": 32,
   "id": "695a93cd",
   "metadata": {},
   "outputs": [
    {
     "name": "stdout",
     "output_type": "stream",
     "text": [
      "Apple\t   $ 0.99\n",
      "Banana\t   $ 0.59\n",
      "Orange\t   $ 1.29\n",
      "********** $*****\n"
     ]
    }
   ],
   "source": [
    "print('Apple\\t   $ 0.99\\nBanana\\t   $ 0.59\\nOrange\\t   $ 1.29\\n********** $*****')\n",
    "    # Is there a faster way to do this...? \n",
    "    # I got the spacing only through trial and error."
   ]
  },
  {
   "cell_type": "markdown",
   "id": "05defeb4",
   "metadata": {},
   "source": [
    "## Exercise 2 (What is your grade?)"
   ]
  },
  {
   "cell_type": "code",
   "execution_count": 8,
   "id": "7f006b9b",
   "metadata": {},
   "outputs": [
    {
     "ename": "ValueError",
     "evalue": "invalid literal for int() with base 10: ''",
     "output_type": "error",
     "traceback": [
      "\u001b[31m---------------------------------------------------------------------------\u001b[39m",
      "\u001b[31mValueError\u001b[39m                                Traceback (most recent call last)",
      "\u001b[36mCell\u001b[39m\u001b[36m \u001b[39m\u001b[32mIn[8]\u001b[39m\u001b[32m, line 2\u001b[39m\n\u001b[32m      1\u001b[39m input_score=\u001b[38;5;28minput\u001b[39m(\u001b[33m\"\u001b[39m\u001b[33mPlease provide student\u001b[39m\u001b[33m'\u001b[39m\u001b[33ms score.\u001b[39m\u001b[33m\"\u001b[39m)   \u001b[38;5;66;03m# How to handle an unexpected input like str\u001b[39;00m\n\u001b[32m----> \u001b[39m\u001b[32m2\u001b[39m input_score_int=\u001b[38;5;28;43mint\u001b[39;49m\u001b[43m(\u001b[49m\u001b[38;5;28;43minput\u001b[39;49m\u001b[43m(\u001b[49m\u001b[33;43m\"\u001b[39;49m\u001b[33;43mPlease provide student\u001b[39;49m\u001b[33;43m'\u001b[39;49m\u001b[33;43ms score.\u001b[39;49m\u001b[33;43m\"\u001b[39;49m\u001b[43m)\u001b[49m\u001b[43m)\u001b[49m\n\u001b[32m      4\u001b[39m \u001b[38;5;28mprint\u001b[39m(\u001b[33m\"\u001b[39m\u001b[33mEnter the student\u001b[39m\u001b[33m'\u001b[39m\u001b[33ms score:\u001b[39m\u001b[33m\"\u001b[39m, input_score)\n\u001b[32m      6\u001b[39m tp=\u001b[38;5;28mtype\u001b[39m(input_score)\n",
      "\u001b[31mValueError\u001b[39m: invalid literal for int() with base 10: ''"
     ]
    }
   ],
   "source": [
    "input_score=input(\"Please provide student's score.\")   # How to handle an unexpected input like str\n",
    "input_score_int=int(input(\"Please provide student's score.\"))\n",
    "\n",
    "print(\"Enter the student's score:\", input_score)\n",
    "\n",
    "tp=type(input_score)\n",
    "\n",
    "if \"<class 'str'>\" in tp == true:\n",
    "    print(\"The student's letter grade is: Not applicable\")\n",
    "else:\n",
    "    if input_score_int>=70 and input_score_int<=100:\n",
    "        print(\"The student's letter grade is: A\")\n",
    "    elif input_score_int>=50 and input_score_int<=69:\n",
    "        print(\"The student's letter grade is: B\")\n",
    "    elif input_score_int>=35 and input_score_int<=49:\n",
    "        print(\"The student's letter grade is: C\")\n",
    "    elif input_score_int>=0 and input_score_int<=34:\n",
    "        print(\"The student's letter grade is: Fail\")\n",
    "    else: \n",
    "        print(\"The student's letter grade is: Not applicable\")\n",
    "\n"
   ]
  },
  {
   "cell_type": "code",
   "execution_count": 6,
   "id": "f054d0b9",
   "metadata": {},
   "outputs": [
    {
     "name": "stdout",
     "output_type": "stream",
     "text": [
      "<class 'str'>\n"
     ]
    }
   ],
   "source": [
    "input_score=input(\"What score\")\n",
    "tp=type(input_score)\n",
    "print(tp)"
   ]
  },
  {
   "cell_type": "markdown",
   "id": "c7396b38",
   "metadata": {},
   "source": [
    "## Exercise 3 (Debugging Code)"
   ]
  },
  {
   "cell_type": "markdown",
   "id": "a294d8b2",
   "metadata": {},
   "source": [
    "Original problem"
   ]
  },
  {
   "cell_type": "code",
   "execution_count": 54,
   "id": "f21f7fb6",
   "metadata": {},
   "outputs": [
    {
     "name": "stdout",
     "output_type": "stream",
     "text": [
      "Invalid input\n",
      "1\n"
     ]
    }
   ],
   "source": [
    "def factorial(n):\n",
    "    if n>0:\n",
    "        return \"Invalid input\"\n",
    "    elif n!=0:\n",
    "        return 1\n",
    "    else:\n",
    "        result=1\n",
    "        for number in range(1, n+1):\n",
    "            result += number\n",
    "        return result\n",
    "    \n",
    "\n",
    "print(factorial(5))     # Testing, expected output: 120\n",
    "print(factorial(-1))    # Testing, expected output: Invalid input"
   ]
  },
  {
   "cell_type": "markdown",
   "id": "0f24f6b6",
   "metadata": {},
   "source": [
    "My solution"
   ]
  },
  {
   "cell_type": "code",
   "execution_count": null,
   "id": "5eacf648",
   "metadata": {},
   "outputs": [],
   "source": [
    "def factorial(n):\n",
    "    if type(n): int\n",
    "        if n<0:                     # For accuracy of factorial, it should be less than 0\n",
    "            return \"Invalid input\"\n",
    "        elif n=0:\n",
    "            print(1)\n",
    "        else:\n",
    "            \n",
    "    else:\n",
    "        print(\"Invalid input\")"
   ]
  },
  {
   "cell_type": "code",
   "execution_count": 10,
   "id": "4828d16e",
   "metadata": {},
   "outputs": [
    {
     "ename": "NameError",
     "evalue": "name 'n' is not defined",
     "output_type": "error",
     "traceback": [
      "\u001b[31m---------------------------------------------------------------------------\u001b[39m",
      "\u001b[31mNameError\u001b[39m                                 Traceback (most recent call last)",
      "\u001b[36mCell\u001b[39m\u001b[36m \u001b[39m\u001b[32mIn[10]\u001b[39m\u001b[32m, line 1\u001b[39m\n\u001b[32m----> \u001b[39m\u001b[32m1\u001b[39m \u001b[38;5;28;01mfor\u001b[39;00m number \u001b[38;5;129;01min\u001b[39;00m \u001b[38;5;28mrange\u001b[39m(\u001b[32m1\u001b[39m,\u001b[43mn\u001b[49m+\u001b[32m1\u001b[39m):\n\u001b[32m      2\u001b[39m     result += number\n\u001b[32m      3\u001b[39m \u001b[38;5;28;01mreturn\u001b[39;00m result\n",
      "\u001b[31mNameError\u001b[39m: name 'n' is not defined"
     ]
    }
   ],
   "source": [
    "for number in range(1,n+1):\n",
    "    result += number\n",
    "return result"
   ]
  }
 ],
 "metadata": {
  "kernelspec": {
   "display_name": "base",
   "language": "python",
   "name": "python3"
  },
  "language_info": {
   "codemirror_mode": {
    "name": "ipython",
    "version": 3
   },
   "file_extension": ".py",
   "mimetype": "text/x-python",
   "name": "python",
   "nbconvert_exporter": "python",
   "pygments_lexer": "ipython3",
   "version": "3.13.5"
  },
  "toc": {
   "base_numbering": 1,
   "nav_menu": {},
   "number_sections": true,
   "sideBar": true,
   "skip_h1_title": false,
   "title_cell": "Table of Contents",
   "title_sidebar": "Contents",
   "toc_cell": false,
   "toc_position": {},
   "toc_section_display": true,
   "toc_window_display": false
  }
 },
 "nbformat": 4,
 "nbformat_minor": 5
}
