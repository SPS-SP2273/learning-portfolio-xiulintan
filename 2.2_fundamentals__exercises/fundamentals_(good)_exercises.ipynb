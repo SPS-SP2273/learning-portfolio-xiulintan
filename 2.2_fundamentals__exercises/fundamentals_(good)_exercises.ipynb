{
 "cells": [
  {
   "attachments": {},
   "cell_type": "markdown",
   "id": "123456",
   "metadata": {},
   "source": [
    "<div style=\"text-align:left;font-size:2em\"><span style=\"font-weight:bolder;font-size:1.25em\">SP2273 | Learning Portfolio</span><br><br><span style=\"font-weight:bold;color:darkred\">Fundamentals (Good) Exercises</span></div>"
   ]
  },
  {
   "cell_type": "markdown",
   "id": "2297b9c9",
   "metadata": {},
   "source": [
    "## Exercise 1 (f-strings to the rescue)"
   ]
  },
  {
   "cell_type": "markdown",
   "id": "730b8df8",
   "metadata": {},
   "source": [
    "Example 1"
   ]
  },
  {
   "cell_type": "code",
   "execution_count": 1,
   "id": "7f2339e4",
   "metadata": {},
   "outputs": [
    {
     "name": "stdout",
     "output_type": "stream",
     "text": [
      "You entered 9\n"
     ]
    }
   ],
   "source": [
    "user_input=input('Please provide with a number?')\n",
    "print('You entered', user_input)"
   ]
  },
  {
   "cell_type": "markdown",
   "id": "293d1eb0",
   "metadata": {},
   "source": [
    "Task 1"
   ]
  },
  {
   "cell_type": "code",
   "execution_count": 2,
   "id": "2577dad5",
   "metadata": {},
   "outputs": [
    {
     "name": "stdout",
     "output_type": "stream",
     "text": [
      "How you doin xiulin\n"
     ]
    }
   ],
   "source": [
    "user_input=input('Please provide your name')\n",
    "print(\"How you doin\", user_input)"
   ]
  },
  {
   "cell_type": "markdown",
   "id": "1484c8fe",
   "metadata": {},
   "source": [
    "Task 2"
   ]
  },
  {
   "cell_type": "code",
   "execution_count": 4,
   "id": "a78cab9d",
   "metadata": {},
   "outputs": [
    {
     "name": "stdout",
     "output_type": "stream",
     "text": [
      "My name is  xiulin and I am  19 years old\n"
     ]
    }
   ],
   "source": [
    "user_name=input('Please provide your name.')\n",
    "user_age=input('Please provide your age.')\n",
    "print(\"My name is \", user_name, \"and I am \", user_age, \"years old\")"
   ]
  },
  {
   "cell_type": "markdown",
   "id": "0abdd55b",
   "metadata": {},
   "source": [
    "Task 3"
   ]
  },
  {
   "cell_type": "code",
   "execution_count": 5,
   "id": "153f2f9a",
   "metadata": {},
   "outputs": [
    {
     "name": "stdout",
     "output_type": "stream",
     "text": [
      "3.14\n",
      "3.142\n",
      "3.1416\n"
     ]
    }
   ],
   "source": [
    "pi=3.141592653589793\n",
    "print(f'{pi:.2f}')\n",
    "print(f'{pi:.3f}')\n",
    "print(f'{pi:.4f}')\n"
   ]
  },
  {
   "cell_type": "markdown",
   "id": "8925e80b",
   "metadata": {},
   "source": [
    "Task 4"
   ]
  },
  {
   "cell_type": "code",
   "execution_count": 5,
   "id": "695a93cd",
   "metadata": {},
   "outputs": [
    {
     "name": "stdout",
     "output_type": "stream",
     "text": [
      "Apple\t   $ 0.99\n",
      "Banana\t   $ 0.59\n",
      "Orange\t   $ 1.29\n",
      "********** $*****\n"
     ]
    }
   ],
   "source": [
    "print('Apple\\t   $ 0.99\\nBanana\\t   $ 0.59\\nOrange\\t   $ 1.29\\n********** $*****')\n",
    "    # Is there a faster way to do this...? \n",
    "    # I got the spacing only through trial and error."
   ]
  },
  {
   "cell_type": "markdown",
   "id": "05defeb4",
   "metadata": {},
   "source": [
    "## Exercise 2 (What is your grade?)"
   ]
  },
  {
   "cell_type": "code",
   "execution_count": 7,
   "id": "7f006b9b",
   "metadata": {},
   "outputs": [
    {
     "name": "stdout",
     "output_type": "stream",
     "text": [
      "Enter the student's score: 85\n",
      "The student's letter grade is: A\n"
     ]
    }
   ],
   "source": [
    "input_score=input(\"Please provide student's score.\")  \n",
    "\n",
    "print(\"Enter the student's score:\", input_score) #this will be a string\n",
    "\n",
    "#check whether its numeric using isnumeric\n",
    "if input_score.isnumeric()==False:                  # works with str\n",
    "    #its only numbers\n",
    "    print(\"Student scores should only contain numbers\")\n",
    "else: \n",
    "    input_score = int(input_score)                  #covert it to an integer using int() \n",
    "    if input_score>=70 and input_score<=100:        #range checks \n",
    "        print(\"The student's letter grade is: A\")\n",
    "    elif input_score>=50 and input_score<=69:\n",
    "        print(\"The student's letter grade is: B\")\n",
    "    elif input_score>=35 and input_score<=49:\n",
    "        print(\"The student's letter grade is: C\")\n",
    "    elif input_score>=0 and input_score<=34:\n",
    "        print(\"The student's letter grade is: Fail\")\n",
    "    else: \n",
    "        print(\"The student's letter grade is: Not applicable\")\n",
    "\n"
   ]
  },
  {
   "cell_type": "markdown",
   "id": "c7396b38",
   "metadata": {},
   "source": [
    "## Exercise 3 (Debugging Code)"
   ]
  },
  {
   "cell_type": "markdown",
   "id": "a294d8b2",
   "metadata": {},
   "source": [
    "Original problem"
   ]
  },
  {
   "cell_type": "code",
   "execution_count": 8,
   "id": "f21f7fb6",
   "metadata": {},
   "outputs": [
    {
     "name": "stdout",
     "output_type": "stream",
     "text": [
      "Invalid input\n",
      "1\n"
     ]
    }
   ],
   "source": [
    "def factorial(n):\n",
    "    if n>0:\n",
    "        return \"Invalid input\"\n",
    "    elif n!=0:\n",
    "        return 1\n",
    "    else:\n",
    "        result=1\n",
    "        for number in range(1, n+1):\n",
    "            result += number\n",
    "        return result\n",
    "    \n",
    "\n",
    "print(factorial(5))     # Testing, expected output: 120\n",
    "print(factorial(-1))    # Testing, expected output: Invalid input"
   ]
  },
  {
   "cell_type": "markdown",
   "id": "0f24f6b6",
   "metadata": {},
   "source": [
    "My solution"
   ]
  },
  {
   "cell_type": "code",
   "execution_count": 9,
   "id": "4828d16e",
   "metadata": {},
   "outputs": [
    {
     "name": "stdout",
     "output_type": "stream",
     "text": [
      "120\n",
      "Invalid input\n"
     ]
    }
   ],
   "source": [
    "def factorial(n):\n",
    "    # if n = 6\n",
    "    # 1 * 2 * 3 * 4 * 5 * 6\n",
    "    if n<0:\n",
    "        return \"Invalid input\"\n",
    "    elif n==0:\n",
    "        return 1\n",
    "    else:\n",
    "        result=1\n",
    "        for number in range(2, n+1): #[start, end)\n",
    "            result *= number #result = result * number\n",
    "        return result\n",
    "    \n",
    "print(factorial(5))\n",
    "print(factorial(-1))"
   ]
  }
 ],
 "metadata": {
  "kernelspec": {
   "display_name": "base",
   "language": "python",
   "name": "python3"
  },
  "language_info": {
   "codemirror_mode": {
    "name": "ipython",
    "version": 3
   },
   "file_extension": ".py",
   "mimetype": "text/x-python",
   "name": "python",
   "nbconvert_exporter": "python",
   "pygments_lexer": "ipython3",
   "version": "3.13.5"
  },
  "toc": {
   "base_numbering": 1,
   "nav_menu": {},
   "number_sections": true,
   "sideBar": true,
   "skip_h1_title": false,
   "title_cell": "Table of Contents",
   "title_sidebar": "Contents",
   "toc_cell": false,
   "toc_position": {},
   "toc_section_display": true,
   "toc_window_display": false
  }
 },
 "nbformat": 4,
 "nbformat_minor": 5
}
