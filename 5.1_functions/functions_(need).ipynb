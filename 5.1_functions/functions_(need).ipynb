{
 "cells": [
  {
   "attachments": {},
   "cell_type": "markdown",
   "id": "123456",
   "metadata": {},
   "source": [
    "<div style=\"text-align:left;font-size:2em\"><span style=\"font-weight:bolder;font-size:1.25em\">SP2273 | Learning Portfolio</span><br><br><span style=\"font-weight:bold;color:darkred\">Functions (Need)</span></div>"
   ]
  },
  {
   "cell_type": "code",
   "execution_count": 2,
   "id": "2dce1bea",
   "metadata": {},
   "outputs": [],
   "source": [
    "import numpy as np"
   ]
  },
  {
   "cell_type": "code",
   "execution_count": 3,
   "id": "68f8c930",
   "metadata": {},
   "outputs": [
    {
     "name": "stdout",
     "output_type": "stream",
     "text": [
      "Requirement already satisfied: matplot in c:\\programdata\\miniconda3\\lib\\site-packages (0.1.9)\n",
      "Requirement already satisfied: pyloco>=0.0.134 in c:\\programdata\\miniconda3\\lib\\site-packages (from matplot) (0.0.139)\n",
      "Requirement already satisfied: matplotlib>=3.1.1 in c:\\programdata\\miniconda3\\lib\\site-packages (from matplot) (3.10.5)\n",
      "Requirement already satisfied: contourpy>=1.0.1 in c:\\programdata\\miniconda3\\lib\\site-packages (from matplotlib>=3.1.1->matplot) (1.3.3)\n",
      "Requirement already satisfied: cycler>=0.10 in c:\\programdata\\miniconda3\\lib\\site-packages (from matplotlib>=3.1.1->matplot) (0.12.1)\n",
      "Requirement already satisfied: fonttools>=4.22.0 in c:\\programdata\\miniconda3\\lib\\site-packages (from matplotlib>=3.1.1->matplot) (4.59.2)\n",
      "Requirement already satisfied: kiwisolver>=1.3.1 in c:\\programdata\\miniconda3\\lib\\site-packages (from matplotlib>=3.1.1->matplot) (1.4.9)\n",
      "Requirement already satisfied: numpy>=1.23 in c:\\programdata\\miniconda3\\lib\\site-packages (from matplotlib>=3.1.1->matplot) (2.3.2)\n",
      "Requirement already satisfied: packaging>=20.0 in c:\\programdata\\miniconda3\\lib\\site-packages (from matplotlib>=3.1.1->matplot) (24.2)\n",
      "Requirement already satisfied: pillow>=8 in c:\\programdata\\miniconda3\\lib\\site-packages (from matplotlib>=3.1.1->matplot) (11.3.0)\n",
      "Requirement already satisfied: pyparsing>=2.3.1 in c:\\programdata\\miniconda3\\lib\\site-packages (from matplotlib>=3.1.1->matplot) (3.2.3)\n",
      "Requirement already satisfied: python-dateutil>=2.7 in c:\\programdata\\miniconda3\\lib\\site-packages (from matplotlib>=3.1.1->matplot) (2.9.0.post0)\n",
      "Requirement already satisfied: ushlex in c:\\programdata\\miniconda3\\lib\\site-packages (from pyloco>=0.0.134->matplot) (0.99.1)\n",
      "Requirement already satisfied: websocket-client in c:\\programdata\\miniconda3\\lib\\site-packages (from pyloco>=0.0.134->matplot) (1.8.0)\n",
      "Requirement already satisfied: twine in c:\\programdata\\miniconda3\\lib\\site-packages (from pyloco>=0.0.134->matplot) (6.1.0)\n",
      "Requirement already satisfied: typing in c:\\programdata\\miniconda3\\lib\\site-packages (from pyloco>=0.0.134->matplot) (3.7.4.3)\n",
      "Requirement already satisfied: SimpleWebSocketServer in c:\\programdata\\miniconda3\\lib\\site-packages (from pyloco>=0.0.134->matplot) (0.1.2)\n",
      "Requirement already satisfied: six>=1.5 in c:\\programdata\\miniconda3\\lib\\site-packages (from python-dateutil>=2.7->matplotlib>=3.1.1->matplot) (1.17.0)\n",
      "Requirement already satisfied: readme-renderer>=35.0 in c:\\programdata\\miniconda3\\lib\\site-packages (from twine->pyloco>=0.0.134->matplot) (44.0)\n",
      "Requirement already satisfied: requests>=2.20 in c:\\programdata\\miniconda3\\lib\\site-packages (from twine->pyloco>=0.0.134->matplot) (2.32.4)\n",
      "Requirement already satisfied: requests-toolbelt!=0.9.0,>=0.8.0 in c:\\programdata\\miniconda3\\lib\\site-packages (from twine->pyloco>=0.0.134->matplot) (1.0.0)\n",
      "Requirement already satisfied: urllib3>=1.26.0 in c:\\programdata\\miniconda3\\lib\\site-packages (from twine->pyloco>=0.0.134->matplot) (2.5.0)\n",
      "Requirement already satisfied: keyring>=15.1 in c:\\programdata\\miniconda3\\lib\\site-packages (from twine->pyloco>=0.0.134->matplot) (25.6.0)\n",
      "Requirement already satisfied: rfc3986>=1.4.0 in c:\\programdata\\miniconda3\\lib\\site-packages (from twine->pyloco>=0.0.134->matplot) (2.0.0)\n",
      "Requirement already satisfied: rich>=12.0.0 in c:\\programdata\\miniconda3\\lib\\site-packages (from twine->pyloco>=0.0.134->matplot) (13.9.4)\n",
      "Requirement already satisfied: id in c:\\programdata\\miniconda3\\lib\\site-packages (from twine->pyloco>=0.0.134->matplot) (1.5.0)\n",
      "Requirement already satisfied: pywin32-ctypes>=0.2.0 in c:\\programdata\\miniconda3\\lib\\site-packages (from keyring>=15.1->twine->pyloco>=0.0.134->matplot) (0.2.3)\n",
      "Requirement already satisfied: jaraco.classes in c:\\programdata\\miniconda3\\lib\\site-packages (from keyring>=15.1->twine->pyloco>=0.0.134->matplot) (3.4.0)\n",
      "Requirement already satisfied: jaraco.functools in c:\\programdata\\miniconda3\\lib\\site-packages (from keyring>=15.1->twine->pyloco>=0.0.134->matplot) (4.3.0)\n",
      "Requirement already satisfied: jaraco.context in c:\\programdata\\miniconda3\\lib\\site-packages (from keyring>=15.1->twine->pyloco>=0.0.134->matplot) (6.0.1)\n",
      "Requirement already satisfied: nh3>=0.2.14 in c:\\programdata\\miniconda3\\lib\\site-packages (from readme-renderer>=35.0->twine->pyloco>=0.0.134->matplot) (0.3.0)\n",
      "Requirement already satisfied: docutils>=0.21.2 in c:\\programdata\\miniconda3\\lib\\site-packages (from readme-renderer>=35.0->twine->pyloco>=0.0.134->matplot) (0.22)\n",
      "Requirement already satisfied: Pygments>=2.5.1 in c:\\programdata\\miniconda3\\lib\\site-packages (from readme-renderer>=35.0->twine->pyloco>=0.0.134->matplot) (2.19.1)\n",
      "Requirement already satisfied: charset_normalizer<4,>=2 in c:\\programdata\\miniconda3\\lib\\site-packages (from requests>=2.20->twine->pyloco>=0.0.134->matplot) (3.3.2)\n",
      "Requirement already satisfied: idna<4,>=2.5 in c:\\programdata\\miniconda3\\lib\\site-packages (from requests>=2.20->twine->pyloco>=0.0.134->matplot) (3.7)\n",
      "Requirement already satisfied: certifi>=2017.4.17 in c:\\programdata\\miniconda3\\lib\\site-packages (from requests>=2.20->twine->pyloco>=0.0.134->matplot) (2025.8.3)\n",
      "Requirement already satisfied: markdown-it-py>=2.2.0 in c:\\programdata\\miniconda3\\lib\\site-packages (from rich>=12.0.0->twine->pyloco>=0.0.134->matplot) (2.2.0)\n",
      "Requirement already satisfied: mdurl~=0.1 in c:\\programdata\\miniconda3\\lib\\site-packages (from markdown-it-py>=2.2.0->rich>=12.0.0->twine->pyloco>=0.0.134->matplot) (0.1.0)\n",
      "Requirement already satisfied: more-itertools in c:\\programdata\\miniconda3\\lib\\site-packages (from jaraco.classes->keyring>=15.1->twine->pyloco>=0.0.134->matplot) (10.7.0)\n",
      "Note: you may need to restart the kernel to use updated packages.\n"
     ]
    }
   ],
   "source": [
    "pip install matplot"
   ]
  },
  {
   "cell_type": "code",
   "execution_count": 1,
   "id": "8cee745f",
   "metadata": {},
   "outputs": [],
   "source": [
    "from matplotlib import pyplot as plt\n",
    "import random"
   ]
  },
  {
   "cell_type": "code",
   "execution_count": 18,
   "id": "594a37a2",
   "metadata": {},
   "outputs": [
    {
     "ename": "NameError",
     "evalue": "name 'x_values1' is not defined",
     "output_type": "error",
     "traceback": [
      "\u001b[31m---------------------------------------------------------------------------\u001b[39m",
      "\u001b[31mNameError\u001b[39m                                 Traceback (most recent call last)",
      "\u001b[36mCell\u001b[39m\u001b[36m \u001b[39m\u001b[32mIn[18]\u001b[39m\u001b[32m, line 5\u001b[39m\n\u001b[32m      3\u001b[39m m,c=\u001b[32m3\u001b[39m,\u001b[32m4\u001b[39m\n\u001b[32m      4\u001b[39m x_yalues1=[x \u001b[38;5;28;01mfor\u001b[39;00m x \u001b[38;5;129;01min\u001b[39;00m \u001b[38;5;28mrange\u001b[39m(\u001b[32m10\u001b[39m)]\n\u001b[32m----> \u001b[39m\u001b[32m5\u001b[39m y_values1=[max_value + c + random.random() \u001b[38;5;28;01mfor\u001b[39;00m x_value \u001b[38;5;129;01min\u001b[39;00m \u001b[43mx_values1\u001b[49m]\n\u001b[32m      7\u001b[39m \u001b[38;5;66;03m#m,c=5,1\u001b[39;00m\n\u001b[32m      8\u001b[39m \u001b[38;5;66;03m# x_values2=[x for x in range(10)]\u001b[39;00m\n\u001b[32m      9\u001b[39m \u001b[38;5;66;03m#y_values2=[max_value + c + random.random() for x_value in x_values2]\u001b[39;00m\n\u001b[32m   (...)\u001b[39m\u001b[32m     12\u001b[39m \u001b[38;5;66;03m# x_values3=[x for x in range(10)]\u001b[39;00m\n\u001b[32m     13\u001b[39m \u001b[38;5;66;03m# y_values3=[max_value + c + random.random() for x_value in x_values3]\u001b[39;00m\n\u001b[32m     15\u001b[39m plt.plot(x,y)\n",
      "\u001b[31mNameError\u001b[39m: name 'x_values1' is not defined"
     ]
    }
   ],
   "source": [
    "# y=mx+c\n",
    "\n",
    "m,c=3,4\n",
    "x_yalues1=[x for x in range(10)]\n",
    "y_values1=[max_value + c + random.random() for x_value in x_values1]\n",
    "\n",
    "#m,c=5,1\n",
    "# x_values2=[x for x in range(10)]\n",
    "#y_values2=[max_value + c + random.random() for x_value in x_values2]\n",
    "\n",
    "#m,c=7,1\n",
    "# x_values3=[x for x in range(10)]\n",
    "# y_values3=[max_value + c + random.random() for x_value in x_values3]\n",
    "\n",
    "plt.plot(x,y)"
   ]
  },
  {
   "cell_type": "code",
   "execution_count": 17,
   "id": "d1eef573",
   "metadata": {},
   "outputs": [
    {
     "ename": "SyntaxError",
     "evalue": "unexpected character after line continuation character (3770424175.py, line 5)",
     "output_type": "error",
     "traceback": [
      "  \u001b[36mCell\u001b[39m\u001b[36m \u001b[39m\u001b[32mIn[17]\u001b[39m\u001b[32m, line 5\u001b[39m\n\u001b[31m    \u001b[39m\u001b[31my_values=[max_value +c+50*random.random() for x_value in x_values]\\return x_values, y_values\u001b[39m\n                                                                       ^\n\u001b[31mSyntaxError\u001b[39m\u001b[31m:\u001b[39m unexpected character after line continuation character\n"
     ]
    }
   ],
   "source": [
    "# y=mx+c\n",
    "\n",
    "def my_line(m,c):\n",
    "    x_values=[x for x in range(100)]\n",
    "    y_values=[max_value +c+50*random.random() for x_value in x_values]\\return x_values, y_values\n",
    "\n",
    "def my_line_np(m,c):\n",
    "    x_values=np.linspace(0,)"
   ]
  },
  {
   "cell_type": "code",
   "execution_count": 16,
   "id": "37133dc8",
   "metadata": {},
   "outputs": [],
   "source": [
    "def write_data(m,c):\n",
    "    x_values=np.linspace(0,10,5)\n",
    "    y_values=m*x_values + c + 5*np.random.random()\n",
    "    np.savetxt(f'hahaha_{m=}_{c=}.txt',{x_values,y_values})"
   ]
  },
  {
   "cell_type": "code",
   "execution_count": 15,
   "id": "0870878d",
   "metadata": {},
   "outputs": [
    {
     "ename": "NameError",
     "evalue": "name 'my_line_np' is not defined",
     "output_type": "error",
     "traceback": [
      "\u001b[31m---------------------------------------------------------------------------\u001b[39m",
      "\u001b[31mNameError\u001b[39m                                 Traceback (most recent call last)",
      "\u001b[36mCell\u001b[39m\u001b[36m \u001b[39m\u001b[32mIn[15]\u001b[39m\u001b[32m, line 1\u001b[39m\n\u001b[32m----> \u001b[39m\u001b[32m1\u001b[39m z=\u001b[43mmy_line_np\u001b[49m(m=\u001b[32m500\u001b[39m,c=\u001b[32m100\u001b[39m)\n",
      "\u001b[31mNameError\u001b[39m: name 'my_line_np' is not defined"
     ]
    }
   ],
   "source": [
    "z=my_line_np(m=500,c=100)"
   ]
  },
  {
   "attachments": {},
   "cell_type": "markdown",
   "id": "123456",
   "metadata": {},
   "source": [
    "# What to expect in this chapter"
   ]
  },
  {
   "attachments": {},
   "cell_type": "markdown",
   "id": "123456",
   "metadata": {},
   "source": [
    "# 1 User-defined functions"
   ]
  },
  {
   "attachments": {},
   "cell_type": "markdown",
   "id": "123456",
   "metadata": {},
   "source": [
    "## 1.1 Named Functions"
   ]
  },
  {
   "attachments": {},
   "cell_type": "markdown",
   "id": "123456",
   "metadata": {},
   "source": [
    "### Named functions that return"
   ]
  },
  {
   "cell_type": "code",
   "execution_count": 10,
   "id": "123456",
   "metadata": {},
   "outputs": [],
   "source": [
    "def greeting(name=\"Super Man\"):\n",
    "    if name=='Batman':\n",
    "        return 'Hello Batman! So, nice to meet you!'\n",
    "    else:\n",
    "        return f'Hello {name}!'"
   ]
  },
  {
   "cell_type": "code",
   "execution_count": 11,
   "id": "c2a2ed7e",
   "metadata": {},
   "outputs": [
    {
     "name": "stdout",
     "output_type": "stream",
     "text": [
      "Hello Super Man!\n"
     ]
    }
   ],
   "source": [
    "greet=greeting(name='Super Man')\n",
    "print(greet)"
   ]
  },
  {
   "cell_type": "code",
   "execution_count": 12,
   "id": "428a295a",
   "metadata": {},
   "outputs": [
    {
     "name": "stdout",
     "output_type": "stream",
     "text": [
      "Hello Super Man!\n"
     ]
    }
   ],
   "source": [
    "print(greeting(name='Super Man'))"
   ]
  },
  {
   "cell_type": "code",
   "execution_count": 13,
   "id": "62b9612c",
   "metadata": {},
   "outputs": [],
   "source": [
    "def basic_stats(numbers):\n",
    "    np_numbers=np.array(numbers)\n",
    "    my_min=np_numbers.min()\n",
    "    my_max=np_numbers.max()\n",
    "    my_mean=np_numbers.mean()\n",
    "    return my_max, my_min, my_mean"
   ]
  },
  {
   "cell_type": "code",
   "execution_count": 14,
   "id": "b6cad1db",
   "metadata": {},
   "outputs": [],
   "source": [
    "list_min,list_max,list_mean=basic_stats([1,2,3,4,5])"
   ]
  },
  {
   "attachments": {},
   "cell_type": "markdown",
   "id": "123456",
   "metadata": {},
   "source": [
    "### Named functions that don’t return"
   ]
  },
  {
   "cell_type": "markdown",
   "id": "123456",
   "metadata": {},
   "source": [
    "print() does sth but does not return a value. \n",
    "\n"
   ]
  },
  {
   "attachments": {},
   "cell_type": "markdown",
   "id": "123456",
   "metadata": {},
   "source": [
    "## 1.2 Anonymous functions"
   ]
  },
  {
   "cell_type": "code",
   "execution_count": 23,
   "id": "50ec497c",
   "metadata": {},
   "outputs": [],
   "source": [
    "my_short_function=lambda name: f\"Hello {name}!\" # accepts a single argument called name"
   ]
  },
  {
   "cell_type": "code",
   "execution_count": 24,
   "id": "fbd7496d",
   "metadata": {},
   "outputs": [
    {
     "data": {
      "text/plain": [
       "'Hello Super Man!'"
      ]
     },
     "execution_count": 24,
     "metadata": {},
     "output_type": "execute_result"
    }
   ],
   "source": [
    "my_short_function(name=\"Super Man\") # lambda returns value of last statement"
   ]
  },
  {
   "cell_type": "code",
   "execution_count": 25,
   "id": "c2a50c2f",
   "metadata": {},
   "outputs": [],
   "source": [
    "numbers=[[9,0,-10],\n",
    "         [8,1,-11],\n",
    "         [7,2,-12],\n",
    "         [6,3,-13],\n",
    "         [5,4,-14],\n",
    "         [4,5,-15],\n",
    "         [3,6,-16],\n",
    "         [2,7,-17],\n",
    "         [1,8,-18],\n",
    "         [0,9,-19]]"
   ]
  },
  {
   "cell_type": "code",
   "execution_count": 30,
   "id": "117e2e04",
   "metadata": {},
   "outputs": [
    {
     "data": {
      "text/plain": [
       "[[0, 9, -19],\n",
       " [1, 8, -18],\n",
       " [2, 7, -17],\n",
       " [3, 6, -16],\n",
       " [4, 5, -15],\n",
       " [5, 4, -14],\n",
       " [6, 3, -13],\n",
       " [7, 2, -12],\n",
       " [8, 1, -11],\n",
       " [9, 0, -10]]"
      ]
     },
     "execution_count": 30,
     "metadata": {},
     "output_type": "execute_result"
    }
   ],
   "source": [
    "sorted(numbers)     \n",
    "# sort by comparing the default key which is 1st element"
   ]
  },
  {
   "cell_type": "code",
   "execution_count": 29,
   "id": "33e99a45",
   "metadata": {},
   "outputs": [
    {
     "data": {
      "text/plain": [
       "[[9, 0, -10],\n",
       " [8, 1, -11],\n",
       " [7, 2, -12],\n",
       " [6, 3, -13],\n",
       " [5, 4, -14],\n",
       " [4, 5, -15],\n",
       " [3, 6, -16],\n",
       " [2, 7, -17],\n",
       " [1, 8, -18],\n",
       " [0, 9, -19]]"
      ]
     },
     "execution_count": 29,
     "metadata": {},
     "output_type": "execute_result"
    }
   ],
   "source": [
    "sorted(numbers,key=lambda x:x[1])       \n",
    "# comparing using a custom key which is index 1"
   ]
  },
  {
   "cell_type": "code",
   "execution_count": 32,
   "id": "1c0570eb",
   "metadata": {},
   "outputs": [
    {
     "data": {
      "text/plain": [
       "[[0, 9, -19],\n",
       " [1, 8, -18],\n",
       " [2, 7, -17],\n",
       " [3, 6, -16],\n",
       " [4, 5, -15],\n",
       " [5, 4, -14],\n",
       " [6, 3, -13],\n",
       " [7, 2, -12],\n",
       " [8, 1, -11],\n",
       " [9, 0, -10]]"
      ]
     },
     "execution_count": 32,
     "metadata": {},
     "output_type": "execute_result"
    }
   ],
   "source": [
    "sorted(numbers, key=lambda x: sum(x))\n",
    "# comparing using the sum of the elements"
   ]
  },
  {
   "attachments": {},
   "cell_type": "markdown",
   "id": "123456",
   "metadata": {},
   "source": [
    "## 1.3 Optional arguments"
   ]
  },
  {
   "cell_type": "code",
   "execution_count": 33,
   "id": "45da1ee6",
   "metadata": {},
   "outputs": [],
   "source": [
    "def greeting(name='no one'):\n",
    "    if name=='Batman':\n",
    "        return 'Hello Batman! So, nice to meet you!'\n",
    "    else:\n",
    "        return f'Hello {name}!'"
   ]
  },
  {
   "cell_type": "code",
   "execution_count": 34,
   "id": "b8b176d4",
   "metadata": {},
   "outputs": [
    {
     "data": {
      "text/plain": [
       "'Hello no one!'"
      ]
     },
     "execution_count": 34,
     "metadata": {},
     "output_type": "execute_result"
    }
   ],
   "source": [
    "greeting()"
   ]
  },
  {
   "cell_type": "code",
   "execution_count": 35,
   "id": "3bc48ba2",
   "metadata": {},
   "outputs": [
    {
     "name": "stdout",
     "output_type": "stream",
     "text": [
      "\u001b[31mSignature:\u001b[39m print(*args, sep=\u001b[33m' '\u001b[39m, end=\u001b[33m'\\n'\u001b[39m, file=\u001b[38;5;28;01mNone\u001b[39;00m, flush=\u001b[38;5;28;01mFalse\u001b[39;00m)\n",
      "\u001b[31mDocstring:\u001b[39m\n",
      "Prints the values to a stream, or to sys.stdout by default.\n",
      "\n",
      "sep\n",
      "  string inserted between values, default a space.\n",
      "end\n",
      "  string appended after the last value, default a newline.\n",
      "file\n",
      "  a file-like object (stream); defaults to the current sys.stdout.\n",
      "flush\n",
      "  whether to forcibly flush the stream.\n",
      "\u001b[31mType:\u001b[39m      builtin_function_or_method"
     ]
    }
   ],
   "source": [
    "?print"
   ]
  },
  {
   "cell_type": "code",
   "execution_count": 39,
   "id": "b0a1d484",
   "metadata": {},
   "outputs": [
    {
     "name": "stdout",
     "output_type": "stream",
     "text": [
      "I am Batman!\n",
      "I---am---Batman!\n"
     ]
    }
   ],
   "source": [
    "print('I','am','Batman!')   # using default value (a space)\n",
    "print('I','am','Batman!',sep='---')\n",
    "# specifying an optional argument"
   ]
  },
  {
   "attachments": {},
   "cell_type": "markdown",
   "id": "123456",
   "metadata": {},
   "source": [
    "## 1.4 The importance of functions?"
   ]
  },
  {
   "attachments": {},
   "cell_type": "markdown",
   "id": "123456",
   "metadata": {},
   "source": [
    "### An argument for functions"
   ]
  },
  {
   "cell_type": "markdown",
   "id": "123456",
   "metadata": {},
   "source": [
    "Abstraction of details\n",
    "<br> Reusability of code\n",
    "<br> Maintainability of code"
   ]
  },
  {
   "attachments": {},
   "cell_type": "markdown",
   "id": "123456",
   "metadata": {},
   "source": [
    "### A word of caution"
   ]
  },
  {
   "cell_type": "markdown",
   "id": "123456",
   "metadata": {},
   "source": [
    "Having too many functions can make it difficult to read your code and also increase computational overheads. You will get a better feel for when to use functions with experience, but please bear in mind that functions can be misused."
   ]
  }
 ],
 "metadata": {
  "kernelspec": {
   "display_name": "base",
   "language": "python",
   "name": "python3"
  },
  "language_info": {
   "codemirror_mode": {
    "name": "ipython",
    "version": 3
   },
   "file_extension": ".py",
   "mimetype": "text/x-python",
   "name": "python",
   "nbconvert_exporter": "python",
   "pygments_lexer": "ipython3",
   "version": "3.13.5"
  },
  "toc": {
   "base_numbering": 1,
   "nav_menu": {},
   "number_sections": true,
   "sideBar": true,
   "skip_h1_title": false,
   "title_cell": "Table of Contents",
   "title_sidebar": "Contents",
   "toc_cell": false,
   "toc_position": {},
   "toc_section_display": true,
   "toc_window_display": false
  }
 },
 "nbformat": 4,
 "nbformat_minor": 5
}
