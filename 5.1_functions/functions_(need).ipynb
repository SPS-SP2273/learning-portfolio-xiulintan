{
 "cells": [
  {
   "attachments": {},
   "cell_type": "markdown",
   "id": "123456",
   "metadata": {},
   "source": [
    "<div style=\"text-align:left;font-size:2em\"><span style=\"font-weight:bolder;font-size:1.25em\">SP2273 | Learning Portfolio</span><br><br><span style=\"font-weight:bold;color:darkred\">Functions (Need)</span></div>"
   ]
  },
  {
   "cell_type": "code",
   "execution_count": 7,
   "id": "2dce1bea",
   "metadata": {},
   "outputs": [],
   "source": [
    "import numpy as np"
   ]
  },
  {
   "cell_type": "code",
   "execution_count": 11,
   "id": "68f8c930",
   "metadata": {},
   "outputs": [
    {
     "name": "stdout",
     "output_type": "stream",
     "text": [
      "Collecting matplot\n",
      "  Downloading matplot-0.1.9-py2.py3-none-any.whl.metadata (241 bytes)\n",
      "Collecting pyloco>=0.0.134 (from matplot)\n",
      "  Downloading pyloco-0.0.139-py2.py3-none-any.whl.metadata (1.1 kB)\n",
      "Collecting matplotlib>=3.1.1 (from matplot)\n",
      "  Downloading matplotlib-3.10.5-cp313-cp313-win_amd64.whl.metadata (11 kB)\n",
      "Collecting contourpy>=1.0.1 (from matplotlib>=3.1.1->matplot)\n",
      "  Downloading contourpy-1.3.3-cp313-cp313-win_amd64.whl.metadata (5.5 kB)\n",
      "Collecting cycler>=0.10 (from matplotlib>=3.1.1->matplot)\n",
      "  Downloading cycler-0.12.1-py3-none-any.whl.metadata (3.8 kB)\n",
      "Collecting fonttools>=4.22.0 (from matplotlib>=3.1.1->matplot)\n",
      "  Downloading fonttools-4.59.2-cp313-cp313-win_amd64.whl.metadata (111 kB)\n",
      "Collecting kiwisolver>=1.3.1 (from matplotlib>=3.1.1->matplot)\n",
      "  Downloading kiwisolver-1.4.9-cp313-cp313-win_amd64.whl.metadata (6.4 kB)\n",
      "Requirement already satisfied: numpy>=1.23 in c:\\programdata\\miniconda3\\lib\\site-packages (from matplotlib>=3.1.1->matplot) (2.3.2)\n",
      "Requirement already satisfied: packaging>=20.0 in c:\\programdata\\miniconda3\\lib\\site-packages (from matplotlib>=3.1.1->matplot) (24.2)\n",
      "Collecting pillow>=8 (from matplotlib>=3.1.1->matplot)\n",
      "  Downloading pillow-11.3.0-cp313-cp313-win_amd64.whl.metadata (9.2 kB)\n",
      "Collecting pyparsing>=2.3.1 (from matplotlib>=3.1.1->matplot)\n",
      "  Downloading pyparsing-3.2.3-py3-none-any.whl.metadata (5.0 kB)\n",
      "Requirement already satisfied: python-dateutil>=2.7 in c:\\programdata\\miniconda3\\lib\\site-packages (from matplotlib>=3.1.1->matplot) (2.9.0.post0)\n",
      "Collecting ushlex (from pyloco>=0.0.134->matplot)\n",
      "  Downloading ushlex-0.99.1.tar.gz (4.7 kB)\n",
      "  Preparing metadata (setup.py): started\n",
      "  Preparing metadata (setup.py): finished with status 'done'\n",
      "Collecting websocket-client (from pyloco>=0.0.134->matplot)\n",
      "  Downloading websocket_client-1.8.0-py3-none-any.whl.metadata (8.0 kB)\n",
      "Collecting twine (from pyloco>=0.0.134->matplot)\n",
      "  Downloading twine-6.1.0-py3-none-any.whl.metadata (3.7 kB)\n",
      "Collecting typing (from pyloco>=0.0.134->matplot)\n",
      "  Downloading typing-3.7.4.3.tar.gz (78 kB)\n",
      "  Preparing metadata (setup.py): started\n",
      "  Preparing metadata (setup.py): finished with status 'done'\n",
      "Collecting SimpleWebSocketServer (from pyloco>=0.0.134->matplot)\n",
      "  Downloading SimpleWebSocketServer-0.1.2.tar.gz (10 kB)\n",
      "  Preparing metadata (setup.py): started\n",
      "  Preparing metadata (setup.py): finished with status 'done'\n",
      "Requirement already satisfied: six>=1.5 in c:\\programdata\\miniconda3\\lib\\site-packages (from python-dateutil>=2.7->matplotlib>=3.1.1->matplot) (1.17.0)\n",
      "Collecting readme-renderer>=35.0 (from twine->pyloco>=0.0.134->matplot)\n",
      "  Downloading readme_renderer-44.0-py3-none-any.whl.metadata (2.8 kB)\n",
      "Requirement already satisfied: requests>=2.20 in c:\\programdata\\miniconda3\\lib\\site-packages (from twine->pyloco>=0.0.134->matplot) (2.32.4)\n",
      "Collecting requests-toolbelt!=0.9.0,>=0.8.0 (from twine->pyloco>=0.0.134->matplot)\n",
      "  Downloading requests_toolbelt-1.0.0-py2.py3-none-any.whl.metadata (14 kB)\n",
      "Requirement already satisfied: urllib3>=1.26.0 in c:\\programdata\\miniconda3\\lib\\site-packages (from twine->pyloco>=0.0.134->matplot) (2.5.0)\n",
      "Collecting keyring>=15.1 (from twine->pyloco>=0.0.134->matplot)\n",
      "  Downloading keyring-25.6.0-py3-none-any.whl.metadata (20 kB)\n",
      "Collecting rfc3986>=1.4.0 (from twine->pyloco>=0.0.134->matplot)\n",
      "  Downloading rfc3986-2.0.0-py2.py3-none-any.whl.metadata (6.6 kB)\n",
      "Requirement already satisfied: rich>=12.0.0 in c:\\programdata\\miniconda3\\lib\\site-packages (from twine->pyloco>=0.0.134->matplot) (13.9.4)\n",
      "Collecting id (from twine->pyloco>=0.0.134->matplot)\n",
      "  Downloading id-1.5.0-py3-none-any.whl.metadata (5.2 kB)\n",
      "Collecting pywin32-ctypes>=0.2.0 (from keyring>=15.1->twine->pyloco>=0.0.134->matplot)\n",
      "  Downloading pywin32_ctypes-0.2.3-py3-none-any.whl.metadata (3.9 kB)\n",
      "Collecting jaraco.classes (from keyring>=15.1->twine->pyloco>=0.0.134->matplot)\n",
      "  Downloading jaraco.classes-3.4.0-py3-none-any.whl.metadata (2.6 kB)\n",
      "Collecting jaraco.functools (from keyring>=15.1->twine->pyloco>=0.0.134->matplot)\n",
      "  Downloading jaraco_functools-4.3.0-py3-none-any.whl.metadata (2.9 kB)\n",
      "Collecting jaraco.context (from keyring>=15.1->twine->pyloco>=0.0.134->matplot)\n",
      "  Downloading jaraco.context-6.0.1-py3-none-any.whl.metadata (4.1 kB)\n",
      "Collecting nh3>=0.2.14 (from readme-renderer>=35.0->twine->pyloco>=0.0.134->matplot)\n",
      "  Downloading nh3-0.3.0-cp38-abi3-win_amd64.whl.metadata (2.1 kB)\n",
      "Collecting docutils>=0.21.2 (from readme-renderer>=35.0->twine->pyloco>=0.0.134->matplot)\n",
      "  Downloading docutils-0.22-py3-none-any.whl.metadata (15 kB)\n",
      "Requirement already satisfied: Pygments>=2.5.1 in c:\\programdata\\miniconda3\\lib\\site-packages (from readme-renderer>=35.0->twine->pyloco>=0.0.134->matplot) (2.19.1)\n",
      "Requirement already satisfied: charset_normalizer<4,>=2 in c:\\programdata\\miniconda3\\lib\\site-packages (from requests>=2.20->twine->pyloco>=0.0.134->matplot) (3.3.2)\n",
      "Requirement already satisfied: idna<4,>=2.5 in c:\\programdata\\miniconda3\\lib\\site-packages (from requests>=2.20->twine->pyloco>=0.0.134->matplot) (3.7)\n",
      "Requirement already satisfied: certifi>=2017.4.17 in c:\\programdata\\miniconda3\\lib\\site-packages (from requests>=2.20->twine->pyloco>=0.0.134->matplot) (2025.8.3)\n",
      "Requirement already satisfied: markdown-it-py>=2.2.0 in c:\\programdata\\miniconda3\\lib\\site-packages (from rich>=12.0.0->twine->pyloco>=0.0.134->matplot) (2.2.0)\n",
      "Requirement already satisfied: mdurl~=0.1 in c:\\programdata\\miniconda3\\lib\\site-packages (from markdown-it-py>=2.2.0->rich>=12.0.0->twine->pyloco>=0.0.134->matplot) (0.1.0)\n",
      "Collecting more-itertools (from jaraco.classes->keyring>=15.1->twine->pyloco>=0.0.134->matplot)\n",
      "  Downloading more_itertools-10.7.0-py3-none-any.whl.metadata (37 kB)\n",
      "Downloading matplot-0.1.9-py2.py3-none-any.whl (5.0 kB)\n",
      "Downloading matplotlib-3.10.5-cp313-cp313-win_amd64.whl (8.1 MB)\n",
      "   ---------------------------------------- 0.0/8.1 MB ? eta -:--:--\n",
      "   ------------ --------------------------- 2.6/8.1 MB 13.2 MB/s eta 0:00:01\n",
      "   ---------------------------- ----------- 5.8/8.1 MB 13.1 MB/s eta 0:00:01\n",
      "   ------------------------------------- -- 7.6/8.1 MB 11.6 MB/s eta 0:00:01\n",
      "   ---------------------------------------- 8.1/8.1 MB 9.6 MB/s eta 0:00:00\n",
      "Downloading contourpy-1.3.3-cp313-cp313-win_amd64.whl (226 kB)\n",
      "Downloading cycler-0.12.1-py3-none-any.whl (8.3 kB)\n",
      "Downloading fonttools-4.59.2-cp313-cp313-win_amd64.whl (2.3 MB)\n",
      "   ---------------------------------------- 0.0/2.3 MB ? eta -:--:--\n",
      "   ---------------------------------------- 2.3/2.3 MB 10.7 MB/s eta 0:00:00\n",
      "Downloading kiwisolver-1.4.9-cp313-cp313-win_amd64.whl (73 kB)\n",
      "Downloading pillow-11.3.0-cp313-cp313-win_amd64.whl (7.0 MB)\n",
      "   ---------------------------------------- 0.0/7.0 MB ? eta -:--:--\n",
      "   --------------- ------------------------ 2.6/7.0 MB 12.8 MB/s eta 0:00:01\n",
      "   ------------------------------- -------- 5.5/7.0 MB 12.8 MB/s eta 0:00:01\n",
      "   ---------------------------------------- 7.0/7.0 MB 11.8 MB/s eta 0:00:00\n",
      "Downloading pyloco-0.0.139-py2.py3-none-any.whl (60 kB)\n",
      "Downloading pyparsing-3.2.3-py3-none-any.whl (111 kB)\n",
      "Downloading twine-6.1.0-py3-none-any.whl (40 kB)\n",
      "Downloading keyring-25.6.0-py3-none-any.whl (39 kB)\n",
      "Downloading pywin32_ctypes-0.2.3-py3-none-any.whl (30 kB)\n",
      "Downloading readme_renderer-44.0-py3-none-any.whl (13 kB)\n",
      "Downloading docutils-0.22-py3-none-any.whl (630 kB)\n",
      "   ---------------------------------------- 0.0/630.7 kB ? eta -:--:--\n",
      "   ---------------------------------------- 630.7/630.7 kB 7.1 MB/s eta 0:00:00\n",
      "Downloading nh3-0.3.0-cp38-abi3-win_amd64.whl (604 kB)\n",
      "   ---------------------------------------- 0.0/604.5 kB ? eta -:--:--\n",
      "   ---------------------------------------- 604.5/604.5 kB 6.5 MB/s eta 0:00:00\n",
      "Downloading requests_toolbelt-1.0.0-py2.py3-none-any.whl (54 kB)\n",
      "Downloading rfc3986-2.0.0-py2.py3-none-any.whl (31 kB)\n",
      "Downloading id-1.5.0-py3-none-any.whl (13 kB)\n",
      "Downloading jaraco.classes-3.4.0-py3-none-any.whl (6.8 kB)\n",
      "Downloading jaraco.context-6.0.1-py3-none-any.whl (6.8 kB)\n",
      "Downloading jaraco_functools-4.3.0-py3-none-any.whl (10 kB)\n",
      "Downloading more_itertools-10.7.0-py3-none-any.whl (65 kB)\n",
      "Downloading websocket_client-1.8.0-py3-none-any.whl (58 kB)\n",
      "Building wheels for collected packages: SimpleWebSocketServer, typing, ushlex\n",
      "  Building wheel for SimpleWebSocketServer (setup.py): started\n",
      "  Building wheel for SimpleWebSocketServer (setup.py): finished with status 'done'\n",
      "  Created wheel for SimpleWebSocketServer: filename=simplewebsocketserver-0.1.2-py3-none-any.whl size=9741 sha256=53763fa48211910a9851d86110d4f60fb44b621055be6d8e5414fdd0749e0312\n",
      "  Stored in directory: c:\\users\\tan xiu lin\\appdata\\local\\pip\\cache\\wheels\\c4\\5b\\e8\\4f2c15a82edc4923058056f6681373168be02a0c00389a6dcf\n",
      "  Building wheel for typing (setup.py): started\n",
      "  Building wheel for typing (setup.py): finished with status 'done'\n",
      "  Created wheel for typing: filename=typing-3.7.4.3-py3-none-any.whl size=26420 sha256=4b10e5363e658b1ef1ec60241fa1bea1a23778a5adfef6e382cc0b5dc56bca18\n",
      "  Stored in directory: c:\\users\\tan xiu lin\\appdata\\local\\pip\\cache\\wheels\\5d\\1b\\f4\\fbdc2bc618f0ba7aec7295d67f62d40e6027a6ce14df9ec3c8\n",
      "  Building wheel for ushlex (setup.py): started\n",
      "  Building wheel for ushlex (setup.py): finished with status 'done'\n",
      "  Created wheel for ushlex: filename=ushlex-0.99.1-py3-none-any.whl size=4444 sha256=249dd22b0a52ec744bc8ea4d652b5a675ce22a027fb553ae099bcce80b8da8a0\n",
      "  Stored in directory: c:\\users\\tan xiu lin\\appdata\\local\\pip\\cache\\wheels\\16\\ce\\42\\80bb6d08441125add15f5a23ea29349187216bcb832ef1d313\n",
      "Successfully built SimpleWebSocketServer typing ushlex\n",
      "Installing collected packages: ushlex, SimpleWebSocketServer, websocket-client, typing, rfc3986, pywin32-ctypes, pyparsing, pillow, nh3, more-itertools, kiwisolver, jaraco.context, fonttools, docutils, cycler, contourpy, requests-toolbelt, readme-renderer, matplotlib, jaraco.functools, jaraco.classes, id, keyring, twine, pyloco, matplot\n",
      "\n",
      "   --- ------------------------------------  2/26 [websocket-client]\n",
      "   --- ------------------------------------  2/26 [websocket-client]\n",
      "   ---- -----------------------------------  3/26 [typing]\n",
      "   ------ ---------------------------------  4/26 [rfc3986]\n",
      "   ------- --------------------------------  5/26 [pywin32-ctypes]\n",
      "   ------- --------------------------------  5/26 [pywin32-ctypes]\n",
      "   --------- ------------------------------  6/26 [pyparsing]\n",
      "   --------- ------------------------------  6/26 [pyparsing]\n",
      "   ---------- -----------------------------  7/26 [pillow]\n",
      "   ---------- -----------------------------  7/26 [pillow]\n",
      "   ---------- -----------------------------  7/26 [pillow]\n",
      "   ---------- -----------------------------  7/26 [pillow]\n",
      "   ---------- -----------------------------  7/26 [pillow]\n",
      "   ---------- -----------------------------  7/26 [pillow]\n",
      "   ---------- -----------------------------  7/26 [pillow]\n",
      "   ---------- -----------------------------  7/26 [pillow]\n",
      "   ---------- -----------------------------  7/26 [pillow]\n",
      "   ---------- -----------------------------  7/26 [pillow]\n",
      "   ---------- -----------------------------  7/26 [pillow]\n",
      "   ---------- -----------------------------  7/26 [pillow]\n",
      "   ------------- --------------------------  9/26 [more-itertools]\n",
      "   ---------------- ----------------------- 11/26 [jaraco.context]\n",
      "   ------------------ --------------------- 12/26 [fonttools]\n",
      "   ------------------ --------------------- 12/26 [fonttools]\n",
      "   ------------------ --------------------- 12/26 [fonttools]\n",
      "   ------------------ --------------------- 12/26 [fonttools]\n",
      "   ------------------ --------------------- 12/26 [fonttools]\n",
      "   ------------------ --------------------- 12/26 [fonttools]\n",
      "   ------------------ --------------------- 12/26 [fonttools]\n",
      "   ------------------ --------------------- 12/26 [fonttools]\n",
      "   ------------------ --------------------- 12/26 [fonttools]\n",
      "   ------------------ --------------------- 12/26 [fonttools]\n",
      "   ------------------ --------------------- 12/26 [fonttools]\n",
      "   ------------------ --------------------- 12/26 [fonttools]\n",
      "   ------------------ --------------------- 12/26 [fonttools]\n",
      "   ------------------ --------------------- 12/26 [fonttools]\n",
      "   ------------------ --------------------- 12/26 [fonttools]\n",
      "   ------------------ --------------------- 12/26 [fonttools]\n",
      "   ------------------ --------------------- 12/26 [fonttools]\n",
      "   ------------------ --------------------- 12/26 [fonttools]\n",
      "   ------------------ --------------------- 12/26 [fonttools]\n",
      "   ------------------ --------------------- 12/26 [fonttools]\n",
      "   ------------------ --------------------- 12/26 [fonttools]\n",
      "   ------------------ --------------------- 12/26 [fonttools]\n",
      "   ------------------ --------------------- 12/26 [fonttools]\n",
      "   ------------------ --------------------- 12/26 [fonttools]\n",
      "   ------------------ --------------------- 12/26 [fonttools]\n",
      "   ------------------ --------------------- 12/26 [fonttools]\n",
      "   ------------------ --------------------- 12/26 [fonttools]\n",
      "   ------------------ --------------------- 12/26 [fonttools]\n",
      "   ------------------ --------------------- 12/26 [fonttools]\n",
      "   ------------------ --------------------- 12/26 [fonttools]\n",
      "   ------------------ --------------------- 12/26 [fonttools]\n",
      "   ------------------ --------------------- 12/26 [fonttools]\n",
      "   ------------------ --------------------- 12/26 [fonttools]\n",
      "   ------------------ --------------------- 12/26 [fonttools]\n",
      "   ------------------ --------------------- 12/26 [fonttools]\n",
      "   ------------------ --------------------- 12/26 [fonttools]\n",
      "   ------------------ --------------------- 12/26 [fonttools]\n",
      "   ------------------ --------------------- 12/26 [fonttools]\n",
      "   ------------------ --------------------- 12/26 [fonttools]\n",
      "   ------------------ --------------------- 12/26 [fonttools]\n",
      "   ------------------ --------------------- 12/26 [fonttools]\n",
      "   ------------------ --------------------- 12/26 [fonttools]\n",
      "   ------------------ --------------------- 12/26 [fonttools]\n",
      "   ------------------ --------------------- 12/26 [fonttools]\n",
      "   ------------------ --------------------- 12/26 [fonttools]\n",
      "   ------------------ --------------------- 12/26 [fonttools]\n",
      "   -------------------- ------------------- 13/26 [docutils]\n",
      "   -------------------- ------------------- 13/26 [docutils]\n",
      "   -------------------- ------------------- 13/26 [docutils]\n",
      "   -------------------- ------------------- 13/26 [docutils]\n",
      "   -------------------- ------------------- 13/26 [docutils]\n",
      "   -------------------- ------------------- 13/26 [docutils]\n",
      "   -------------------- ------------------- 13/26 [docutils]\n",
      "   -------------------- ------------------- 13/26 [docutils]\n",
      "   -------------------- ------------------- 13/26 [docutils]\n",
      "   -------------------- ------------------- 13/26 [docutils]\n",
      "   -------------------- ------------------- 13/26 [docutils]\n",
      "   -------------------- ------------------- 13/26 [docutils]\n",
      "   -------------------- ------------------- 13/26 [docutils]\n",
      "   -------------------- ------------------- 13/26 [docutils]\n",
      "   -------------------- ------------------- 13/26 [docutils]\n",
      "   -------------------- ------------------- 13/26 [docutils]\n",
      "   -------------------- ------------------- 13/26 [docutils]\n",
      "   ----------------------- ---------------- 15/26 [contourpy]\n",
      "   ----------------------- ---------------- 15/26 [contourpy]\n",
      "   ----------------------- ---------------- 15/26 [contourpy]\n",
      "   ------------------------ --------------- 16/26 [requests-toolbelt]\n",
      "   ------------------------ --------------- 16/26 [requests-toolbelt]\n",
      "   ------------------------ --------------- 16/26 [requests-toolbelt]\n",
      "   ------------------------ --------------- 16/26 [requests-toolbelt]\n",
      "   -------------------------- ------------- 17/26 [readme-renderer]\n",
      "   --------------------------- ------------ 18/26 [matplotlib]\n",
      "   --------------------------- ------------ 18/26 [matplotlib]\n",
      "   --------------------------- ------------ 18/26 [matplotlib]\n",
      "   --------------------------- ------------ 18/26 [matplotlib]\n",
      "   --------------------------- ------------ 18/26 [matplotlib]\n",
      "   --------------------------- ------------ 18/26 [matplotlib]\n",
      "   --------------------------- ------------ 18/26 [matplotlib]\n",
      "   --------------------------- ------------ 18/26 [matplotlib]\n",
      "   --------------------------- ------------ 18/26 [matplotlib]\n",
      "   --------------------------- ------------ 18/26 [matplotlib]\n",
      "   --------------------------- ------------ 18/26 [matplotlib]\n",
      "   --------------------------- ------------ 18/26 [matplotlib]\n",
      "   --------------------------- ------------ 18/26 [matplotlib]\n",
      "   --------------------------- ------------ 18/26 [matplotlib]\n",
      "   --------------------------- ------------ 18/26 [matplotlib]\n",
      "   --------------------------- ------------ 18/26 [matplotlib]\n",
      "   --------------------------- ------------ 18/26 [matplotlib]\n",
      "   --------------------------- ------------ 18/26 [matplotlib]\n",
      "   --------------------------- ------------ 18/26 [matplotlib]\n",
      "   --------------------------- ------------ 18/26 [matplotlib]\n",
      "   --------------------------- ------------ 18/26 [matplotlib]\n",
      "   --------------------------- ------------ 18/26 [matplotlib]\n",
      "   --------------------------- ------------ 18/26 [matplotlib]\n",
      "   --------------------------- ------------ 18/26 [matplotlib]\n",
      "   --------------------------- ------------ 18/26 [matplotlib]\n",
      "   --------------------------- ------------ 18/26 [matplotlib]\n",
      "   --------------------------- ------------ 18/26 [matplotlib]\n",
      "   --------------------------- ------------ 18/26 [matplotlib]\n",
      "   --------------------------- ------------ 18/26 [matplotlib]\n",
      "   --------------------------- ------------ 18/26 [matplotlib]\n",
      "   --------------------------- ------------ 18/26 [matplotlib]\n",
      "   --------------------------- ------------ 18/26 [matplotlib]\n",
      "   --------------------------- ------------ 18/26 [matplotlib]\n",
      "   --------------------------- ------------ 18/26 [matplotlib]\n",
      "   --------------------------- ------------ 18/26 [matplotlib]\n",
      "   --------------------------- ------------ 18/26 [matplotlib]\n",
      "   --------------------------- ------------ 18/26 [matplotlib]\n",
      "   --------------------------- ------------ 18/26 [matplotlib]\n",
      "   --------------------------- ------------ 18/26 [matplotlib]\n",
      "   --------------------------- ------------ 18/26 [matplotlib]\n",
      "   ------------------------------ --------- 20/26 [jaraco.classes]\n",
      "   --------------------------------- ------ 22/26 [keyring]\n",
      "   --------------------------------- ------ 22/26 [keyring]\n",
      "   ----------------------------------- ---- 23/26 [twine]\n",
      "   ------------------------------------ --- 24/26 [pyloco]\n",
      "   ------------------------------------ --- 24/26 [pyloco]\n",
      "   ---------------------------------------- 26/26 [matplot]\n",
      "\n",
      "Successfully installed SimpleWebSocketServer-0.1.2 contourpy-1.3.3 cycler-0.12.1 docutils-0.22 fonttools-4.59.2 id-1.5.0 jaraco.classes-3.4.0 jaraco.context-6.0.1 jaraco.functools-4.3.0 keyring-25.6.0 kiwisolver-1.4.9 matplot-0.1.9 matplotlib-3.10.5 more-itertools-10.7.0 nh3-0.3.0 pillow-11.3.0 pyloco-0.0.139 pyparsing-3.2.3 pywin32-ctypes-0.2.3 readme-renderer-44.0 requests-toolbelt-1.0.0 rfc3986-2.0.0 twine-6.1.0 typing-3.7.4.3 ushlex-0.99.1 websocket-client-1.8.0\n",
      "Note: you may need to restart the kernel to use updated packages.\n"
     ]
    },
    {
     "name": "stderr",
     "output_type": "stream",
     "text": [
      "  DEPRECATION: Building 'SimpleWebSocketServer' using the legacy setup.py bdist_wheel mechanism, which will be removed in a future version. pip 25.3 will enforce this behaviour change. A possible replacement is to use the standardized build interface by setting the `--use-pep517` option, (possibly combined with `--no-build-isolation`), or adding a `pyproject.toml` file to the source tree of 'SimpleWebSocketServer'. Discussion can be found at https://github.com/pypa/pip/issues/6334\n",
      "  DEPRECATION: Building 'typing' using the legacy setup.py bdist_wheel mechanism, which will be removed in a future version. pip 25.3 will enforce this behaviour change. A possible replacement is to use the standardized build interface by setting the `--use-pep517` option, (possibly combined with `--no-build-isolation`), or adding a `pyproject.toml` file to the source tree of 'typing'. Discussion can be found at https://github.com/pypa/pip/issues/6334\n",
      "  DEPRECATION: Building 'ushlex' using the legacy setup.py bdist_wheel mechanism, which will be removed in a future version. pip 25.3 will enforce this behaviour change. A possible replacement is to use the standardized build interface by setting the `--use-pep517` option, (possibly combined with `--no-build-isolation`), or adding a `pyproject.toml` file to the source tree of 'ushlex'. Discussion can be found at https://github.com/pypa/pip/issues/6334\n"
     ]
    }
   ],
   "source": [
    "pip install matplot"
   ]
  },
  {
   "cell_type": "code",
   "execution_count": 12,
   "id": "8cee745f",
   "metadata": {},
   "outputs": [],
   "source": [
    "from matplotlib import pyplot as plt\n",
    "import random"
   ]
  },
  {
   "cell_type": "code",
   "execution_count": 13,
   "id": "594a37a2",
   "metadata": {},
   "outputs": [
    {
     "ename": "NameError",
     "evalue": "name 'x_values1' is not defined",
     "output_type": "error",
     "traceback": [
      "\u001b[31m---------------------------------------------------------------------------\u001b[39m",
      "\u001b[31mNameError\u001b[39m                                 Traceback (most recent call last)",
      "\u001b[36mCell\u001b[39m\u001b[36m \u001b[39m\u001b[32mIn[13]\u001b[39m\u001b[32m, line 5\u001b[39m\n\u001b[32m      3\u001b[39m m,c=\u001b[32m3\u001b[39m,\u001b[32m4\u001b[39m\n\u001b[32m      4\u001b[39m x_yalues1=[x \u001b[38;5;28;01mfor\u001b[39;00m x \u001b[38;5;129;01min\u001b[39;00m \u001b[38;5;28mrange\u001b[39m(\u001b[32m10\u001b[39m)]\n\u001b[32m----> \u001b[39m\u001b[32m5\u001b[39m y_values1=[max_value + c + random.random() \u001b[38;5;28;01mfor\u001b[39;00m x_value \u001b[38;5;129;01min\u001b[39;00m \u001b[43mx_values1\u001b[49m]\n\u001b[32m      7\u001b[39m \u001b[38;5;66;03m#m,c=5,1\u001b[39;00m\n\u001b[32m      8\u001b[39m \u001b[38;5;66;03m# x_values2=[x for x in range(10)]\u001b[39;00m\n\u001b[32m      9\u001b[39m \u001b[38;5;66;03m#y_values2=[max_value + c + random.random() for x_value in x_values2]\u001b[39;00m\n\u001b[32m   (...)\u001b[39m\u001b[32m     12\u001b[39m \u001b[38;5;66;03m# x_values3=[x for x in range(10)]\u001b[39;00m\n\u001b[32m     13\u001b[39m \u001b[38;5;66;03m# y_values3=[max_value + c + random.random() for x_value in x_values3]\u001b[39;00m\n\u001b[32m     15\u001b[39m plt.plot(x,y)\n",
      "\u001b[31mNameError\u001b[39m: name 'x_values1' is not defined"
     ]
    }
   ],
   "source": [
    "# y=mx+c\n",
    "\n",
    "m,c=3,4\n",
    "x_yalues1=[x for x in range(10)]\n",
    "y_values1=[max_value + c + random.random() for x_value in x_values1]\n",
    "\n",
    "#m,c=5,1\n",
    "# x_values2=[x for x in range(10)]\n",
    "#y_values2=[max_value + c + random.random() for x_value in x_values2]\n",
    "\n",
    "#m,c=7,1\n",
    "# x_values3=[x for x in range(10)]\n",
    "# y_values3=[max_value + c + random.random() for x_value in x_values3]\n",
    "\n",
    "plt.plot(x,y)"
   ]
  },
  {
   "cell_type": "code",
   "execution_count": 14,
   "id": "d1eef573",
   "metadata": {},
   "outputs": [
    {
     "ename": "SyntaxError",
     "evalue": "unexpected character after line continuation character (3770424175.py, line 5)",
     "output_type": "error",
     "traceback": [
      "  \u001b[36mCell\u001b[39m\u001b[36m \u001b[39m\u001b[32mIn[14]\u001b[39m\u001b[32m, line 5\u001b[39m\n\u001b[31m    \u001b[39m\u001b[31my_values=[max_value +c+50*random.random() for x_value in x_values]\\return x_values, y_values\u001b[39m\n                                                                       ^\n\u001b[31mSyntaxError\u001b[39m\u001b[31m:\u001b[39m unexpected character after line continuation character\n"
     ]
    }
   ],
   "source": [
    "# y=mx+c\n",
    "\n",
    "def my_line(m,c):\n",
    "    x_values=[x for x in range(100)]\n",
    "    y_values=[max_value +c+50*random.random() for x_value in x_values]\\return x_values, y_values\n",
    "\n",
    "def my_line_np(m,c):\n",
    "    x_values=np.linspace(0,)"
   ]
  },
  {
   "cell_type": "code",
   "execution_count": 15,
   "id": "37133dc8",
   "metadata": {},
   "outputs": [],
   "source": [
    "def write_data(m,c):\n",
    "    x_values=np.linspace(0,10,5)\n",
    "    y_values=m*x_values + c + 5*np.random.random()\n",
    "    np.savetxt(f'hahaha_{m=}_{c=}.txt',{x_values,y_values})"
   ]
  },
  {
   "cell_type": "code",
   "execution_count": 17,
   "id": "0870878d",
   "metadata": {},
   "outputs": [
    {
     "ename": "NameError",
     "evalue": "name 'my_line_np' is not defined",
     "output_type": "error",
     "traceback": [
      "\u001b[31m---------------------------------------------------------------------------\u001b[39m",
      "\u001b[31mNameError\u001b[39m                                 Traceback (most recent call last)",
      "\u001b[36mCell\u001b[39m\u001b[36m \u001b[39m\u001b[32mIn[17]\u001b[39m\u001b[32m, line 1\u001b[39m\n\u001b[32m----> \u001b[39m\u001b[32m1\u001b[39m z=\u001b[43mmy_line_np\u001b[49m(m=\u001b[32m500\u001b[39m,c=\u001b[32m100\u001b[39m)\n",
      "\u001b[31mNameError\u001b[39m: name 'my_line_np' is not defined"
     ]
    }
   ],
   "source": [
    "z=my_line_np(m=500,c=100)"
   ]
  },
  {
   "attachments": {},
   "cell_type": "markdown",
   "id": "123456",
   "metadata": {},
   "source": [
    "# What to expect in this chapter"
   ]
  },
  {
   "attachments": {},
   "cell_type": "markdown",
   "id": "123456",
   "metadata": {},
   "source": [
    "# 1 User-defined functions"
   ]
  },
  {
   "attachments": {},
   "cell_type": "markdown",
   "id": "123456",
   "metadata": {},
   "source": [
    "## 1.1 Named Functions"
   ]
  },
  {
   "attachments": {},
   "cell_type": "markdown",
   "id": "123456",
   "metadata": {},
   "source": [
    "### Named functions that return"
   ]
  },
  {
   "cell_type": "code",
   "execution_count": null,
   "id": "123456",
   "metadata": {},
   "outputs": [],
   "source": [
    "\n",
    "# Your code here\n"
   ]
  },
  {
   "attachments": {},
   "cell_type": "markdown",
   "id": "123456",
   "metadata": {},
   "source": [
    "### Named functions that don’t return"
   ]
  },
  {
   "cell_type": "code",
   "execution_count": null,
   "id": "123456",
   "metadata": {},
   "outputs": [],
   "source": [
    "\n",
    "# Your code here\n"
   ]
  },
  {
   "attachments": {},
   "cell_type": "markdown",
   "id": "123456",
   "metadata": {},
   "source": [
    "## 1.2 Anonymous functions"
   ]
  },
  {
   "attachments": {},
   "cell_type": "markdown",
   "id": "123456",
   "metadata": {},
   "source": [
    "## 1.3 Optional arguments"
   ]
  },
  {
   "attachments": {},
   "cell_type": "markdown",
   "id": "123456",
   "metadata": {},
   "source": [
    "## 1.4 The importance of functions?"
   ]
  },
  {
   "attachments": {},
   "cell_type": "markdown",
   "id": "123456",
   "metadata": {},
   "source": [
    "### An argument for functions"
   ]
  },
  {
   "cell_type": "code",
   "execution_count": null,
   "id": "123456",
   "metadata": {},
   "outputs": [],
   "source": [
    "\n",
    "# Your code here\n"
   ]
  },
  {
   "attachments": {},
   "cell_type": "markdown",
   "id": "123456",
   "metadata": {},
   "source": [
    "### A word of caution"
   ]
  },
  {
   "cell_type": "code",
   "execution_count": null,
   "id": "123456",
   "metadata": {},
   "outputs": [],
   "source": [
    "\n",
    "# Your code here\n"
   ]
  }
 ],
 "metadata": {
  "kernelspec": {
   "display_name": "base",
   "language": "python",
   "name": "python3"
  },
  "language_info": {
   "codemirror_mode": {
    "name": "ipython",
    "version": 3
   },
   "file_extension": ".py",
   "mimetype": "text/x-python",
   "name": "python",
   "nbconvert_exporter": "python",
   "pygments_lexer": "ipython3",
   "version": "3.13.5"
  },
  "toc": {
   "base_numbering": 1,
   "nav_menu": {},
   "number_sections": true,
   "sideBar": true,
   "skip_h1_title": false,
   "title_cell": "Table of Contents",
   "title_sidebar": "Contents",
   "toc_cell": false,
   "toc_position": {},
   "toc_section_display": true,
   "toc_window_display": false
  }
 },
 "nbformat": 4,
 "nbformat_minor": 5
}
