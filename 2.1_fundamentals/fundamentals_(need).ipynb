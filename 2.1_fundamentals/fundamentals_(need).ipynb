{
 "cells": [
  {
   "attachments": {},
   "cell_type": "markdown",
   "id": "123456",
   "metadata": {},
   "source": [
    "<div style=\"text-align:left;font-size:2em\"><span style=\"font-weight:bolder;font-size:1.25em\">SP2273 | Learning Portfolio</span><br><br><span style=\"font-weight:bold;color:darkred\">Fundamentals (Need)</span></div>"
   ]
  },
  {
   "attachments": {},
   "cell_type": "markdown",
   "id": "123456",
   "metadata": {},
   "source": [
    "# What to expect in this chapter"
   ]
  },
  {
   "attachments": {},
   "cell_type": "markdown",
   "id": "123456",
   "metadata": {},
   "source": [
    "# 1 Functions"
   ]
  },
  {
   "cell_type": "code",
   "execution_count": 1,
   "id": "622ce06e",
   "metadata": {},
   "outputs": [
    {
     "name": "stdout",
     "output_type": "stream",
     "text": [
      "Hello world!\n"
     ]
    }
   ],
   "source": [
    "print('Hello world!')"
   ]
  },
  {
   "attachments": {},
   "cell_type": "markdown",
   "id": "123456",
   "metadata": {},
   "source": [
    "# 2 Python is interpreted"
   ]
  },
  {
   "cell_type": "code",
   "execution_count": 2,
   "id": "982ee37c",
   "metadata": {},
   "outputs": [
    {
     "name": "stdout",
     "output_type": "stream",
     "text": [
      "Hello World\n",
      "Hello World again\n"
     ]
    }
   ],
   "source": [
    "print('Hello World')\n",
    "print('Hello World again')"
   ]
  },
  {
   "attachments": {},
   "cell_type": "markdown",
   "id": "123456",
   "metadata": {},
   "source": [
    "# 3 Python is sensitive."
   ]
  },
  {
   "cell_type": "code",
   "execution_count": 3,
   "id": "98a6ef51",
   "metadata": {},
   "outputs": [
    {
     "name": "stdout",
     "output_type": "stream",
     "text": [
      "Hello World\n"
     ]
    },
    {
     "ename": "NameError",
     "evalue": "name 'Print' is not defined",
     "output_type": "error",
     "traceback": [
      "\u001b[31m---------------------------------------------------------------------------\u001b[39m",
      "\u001b[31mNameError\u001b[39m                                 Traceback (most recent call last)",
      "\u001b[36mCell\u001b[39m\u001b[36m \u001b[39m\u001b[32mIn[3]\u001b[39m\u001b[32m, line 2\u001b[39m\n\u001b[32m      1\u001b[39m \u001b[38;5;28mprint\u001b[39m(\u001b[33m'\u001b[39m\u001b[33mHello World\u001b[39m\u001b[33m'\u001b[39m)\n\u001b[32m----> \u001b[39m\u001b[32m2\u001b[39m \u001b[43mPrint\u001b[49m(\u001b[33m'\u001b[39m\u001b[33mHello World\u001b[39m\u001b[33m'\u001b[39m)\n",
      "\u001b[31mNameError\u001b[39m: name 'Print' is not defined"
     ]
    }
   ],
   "source": [
    "print('Hello World')\n",
    "Print('Hello World')"
   ]
  },
  {
   "attachments": {},
   "cell_type": "markdown",
   "id": "123456",
   "metadata": {},
   "source": [
    "# 4 Comments"
   ]
  },
  {
   "cell_type": "code",
   "execution_count": 4,
   "id": "f27b8d1f",
   "metadata": {},
   "outputs": [
    {
     "name": "stdout",
     "output_type": "stream",
     "text": [
      "One\n",
      "Three\n"
     ]
    }
   ],
   "source": [
    "# This is a comment\n",
    "print('One')    #This is a comment. \n",
    "#print('Two')   #The interpreter ignores this line. \n",
    "print('Three')  #This is \n",
    "                #also a way to \n",
    "                #write comments"
   ]
  },
  {
   "cell_type": "code",
   "execution_count": 5,
   "id": "f215d5a6",
   "metadata": {},
   "outputs": [
    {
     "name": "stdout",
     "output_type": "stream",
     "text": [
      "Hello World\n"
     ]
    }
   ],
   "source": [
    "print('Hello World')    #Printing \"Hello World\""
   ]
  },
  {
   "attachments": {},
   "cell_type": "markdown",
   "id": "123456",
   "metadata": {},
   "source": [
    "# 5 = is not the same as =="
   ]
  },
  {
   "cell_type": "code",
   "execution_count": 6,
   "id": "a00ed247",
   "metadata": {},
   "outputs": [],
   "source": [
    "name='Batman'   #Make name carry 'Batman'"
   ]
  },
  {
   "cell_type": "code",
   "execution_count": 7,
   "id": "df265f84",
   "metadata": {},
   "outputs": [
    {
     "data": {
      "text/plain": [
       "True"
      ]
     },
     "execution_count": 7,
     "metadata": {},
     "output_type": "execute_result"
    }
   ],
   "source": [
    "name== 'Batman' #Tell me if name is equal to 'Batman'"
   ]
  },
  {
   "attachments": {},
   "cell_type": "markdown",
   "id": "123456",
   "metadata": {},
   "source": [
    "# 6 Use if to make decisions"
   ]
  },
  {
   "cell_type": "code",
   "execution_count": 8,
   "id": "9e0fbbee",
   "metadata": {},
   "outputs": [
    {
     "name": "stdout",
     "output_type": "stream",
     "text": [
      "Hello Batman!\n"
     ]
    }
   ],
   "source": [
    "name='Batman'\n",
    "\n",
    "if name=='Batman':\n",
    "    print('Hello Batman!')\n",
    "else:\n",
    "    print('Hello World!')"
   ]
  },
  {
   "attachments": {},
   "cell_type": "markdown",
   "id": "123456",
   "metadata": {},
   "source": [
    "# 7 Indentations (spaces) are sooo IMPORTANT!"
   ]
  },
  {
   "cell_type": "code",
   "execution_count": 9,
   "id": "1c4349cb",
   "metadata": {},
   "outputs": [
    {
     "name": "stdout",
     "output_type": "stream",
     "text": [
      "10\n"
     ]
    }
   ],
   "source": [
    "x=10\n",
    "print(x)"
   ]
  },
  {
   "cell_type": "code",
   "execution_count": 10,
   "id": "c86b895f",
   "metadata": {},
   "outputs": [
    {
     "ename": "IndentationError",
     "evalue": "unexpected indent (186375093.py, line 2)",
     "output_type": "error",
     "traceback": [
      "  \u001b[36mCell\u001b[39m\u001b[36m \u001b[39m\u001b[32mIn[10]\u001b[39m\u001b[32m, line 2\u001b[39m\n\u001b[31m    \u001b[39m\u001b[31mprint(x)\u001b[39m\n    ^\n\u001b[31mIndentationError\u001b[39m\u001b[31m:\u001b[39m unexpected indent\n"
     ]
    }
   ],
   "source": [
    "x=10\n",
    "    print(x)"
   ]
  },
  {
   "attachments": {},
   "cell_type": "markdown",
   "id": "123456",
   "metadata": {},
   "source": [
    "# 8 ‘age’ is English, age is a variable."
   ]
  },
  {
   "cell_type": "code",
   "execution_count": 12,
   "id": "5c0b2929",
   "metadata": {},
   "outputs": [
    {
     "name": "stdout",
     "output_type": "stream",
     "text": [
      "24\n",
      "age\n"
     ]
    }
   ],
   "source": [
    "age=24\n",
    "\n",
    "print(age)  #Print the value of the variable age\n",
    "print(\"age\")    #Print the English word 'age'"
   ]
  },
  {
   "attachments": {},
   "cell_type": "markdown",
   "id": "123456",
   "metadata": {},
   "source": [
    "# 9 Brackets"
   ]
  },
  {
   "cell_type": "code",
   "execution_count": 14,
   "id": "611e2e22",
   "metadata": {},
   "outputs": [
    {
     "name": "stdout",
     "output_type": "stream",
     "text": [
      "You're twenty years old\n"
     ]
    }
   ],
   "source": [
    "print(\"You're twenty years old\")    #In functions"
   ]
  },
  {
   "cell_type": "code",
   "execution_count": 15,
   "id": "b705fe4b",
   "metadata": {},
   "outputs": [
    {
     "data": {
      "text/plain": [
       "15"
      ]
     },
     "execution_count": 15,
     "metadata": {},
     "output_type": "execute_result"
    }
   ],
   "source": [
    "(1+2)*5     #for math"
   ]
  },
  {
   "cell_type": "code",
   "execution_count": 10,
   "id": "17912acd",
   "metadata": {},
   "outputs": [],
   "source": [
    "py_list=[1,2,3,4,5]    #A 1D list\n",
    "py_list_2=[\n",
    "            [1,\"A\"],    #don't use keywords like list which maybe for functions etc for your variable\n",
    "            [2,\"B\"],\n",
    "            [3,\"C\"],\n",
    "            [4,\"D\"],\n",
    "            [5,\"E\"]\n",
    "        ]"
   ]
  },
  {
   "cell_type": "code",
   "execution_count": 22,
   "id": "517adeda",
   "metadata": {},
   "outputs": [],
   "source": [
    "personal_info={\n",
    "    'Names': 'Batman',\n",
    "    'Real Name': 'Bruce Wayne', \n",
    "    'Age': 55,\n",
    "    'Affiliation': 'Justice League',\n",
    "    'Universe': 'DC'\n",
    "}"
   ]
  },
  {
   "cell_type": "code",
   "execution_count": 23,
   "id": "2175a94a",
   "metadata": {},
   "outputs": [
    {
     "name": "stdout",
     "output_type": "stream",
     "text": [
      "Bruce Wayne\n"
     ]
    }
   ],
   "source": [
    "print(personal_info['Real Name'])"
   ]
  },
  {
   "attachments": {},
   "cell_type": "markdown",
   "id": "123456",
   "metadata": {},
   "source": [
    "# 10 Giving Python superpowers with Packages"
   ]
  },
  {
   "attachments": {},
   "cell_type": "markdown",
   "id": "123456",
   "metadata": {},
   "source": [
    "## 10.1 Some Context"
   ]
  },
  {
   "cell_type": "code",
   "execution_count": 1,
   "id": "039f7389",
   "metadata": {},
   "outputs": [
    {
     "data": {
      "text/plain": [
       "40.5"
      ]
     },
     "execution_count": 1,
     "metadata": {},
     "output_type": "execute_result"
    }
   ],
   "source": [
    "1 * ((2-3)+4) ** 5 / 6"
   ]
  },
  {
   "cell_type": "code",
   "execution_count": 2,
   "id": "f16c2d99",
   "metadata": {},
   "outputs": [
    {
     "ename": "NameError",
     "evalue": "name 'sqrt' is not defined",
     "output_type": "error",
     "traceback": [
      "\u001b[31m---------------------------------------------------------------------------\u001b[39m",
      "\u001b[31mNameError\u001b[39m                                 Traceback (most recent call last)",
      "\u001b[36mCell\u001b[39m\u001b[36m \u001b[39m\u001b[32mIn[2]\u001b[39m\u001b[32m, line 1\u001b[39m\n\u001b[32m----> \u001b[39m\u001b[32m1\u001b[39m \u001b[43msqrt\u001b[49m(\u001b[32m4\u001b[39m)\n",
      "\u001b[31mNameError\u001b[39m: name 'sqrt' is not defined"
     ]
    }
   ],
   "source": [
    "sqrt(4)"
   ]
  },
  {
   "attachments": {},
   "cell_type": "markdown",
   "id": "123456",
   "metadata": {},
   "source": [
    "## 10.2 Importing the math package"
   ]
  },
  {
   "cell_type": "code",
   "execution_count": 3,
   "id": "c00cea6a",
   "metadata": {},
   "outputs": [],
   "source": [
    "import math"
   ]
  },
  {
   "cell_type": "code",
   "execution_count": 4,
   "id": "50e56639",
   "metadata": {},
   "outputs": [
    {
     "data": {
      "text/plain": [
       "2.0"
      ]
     },
     "execution_count": 4,
     "metadata": {},
     "output_type": "execute_result"
    }
   ],
   "source": [
    "math.sqrt(4)"
   ]
  },
  {
   "attachments": {},
   "cell_type": "markdown",
   "id": "123456",
   "metadata": {},
   "source": [
    "## 10.3 Importing the numpy package"
   ]
  },
  {
   "cell_type": "code",
   "execution_count": 18,
   "id": "c569417f",
   "metadata": {},
   "outputs": [],
   "source": [
    "import numpy as np"
   ]
  },
  {
   "cell_type": "code",
   "execution_count": 17,
   "id": "69af3dd2",
   "metadata": {},
   "outputs": [
    {
     "name": "stdout",
     "output_type": "stream",
     "text": [
      "3 channel Terms of Service accepted\n",
      "Retrieving notices: done\n",
      "Channels:\n",
      " - conda-forge\n",
      " - defaults\n",
      "Platform: win-64\n",
      "Collecting package metadata (repodata.json): done\n",
      "Solving environment: done\n",
      "\n",
      "## Package Plan ##\n",
      "\n",
      "  environment location: C:\\ProgramData\\miniconda3\n",
      "\n",
      "  added / updated specs:\n",
      "    - numpy\n",
      "\n",
      "\n",
      "The following packages will be downloaded:\n",
      "\n",
      "    package                    |            build\n",
      "    ---------------------------|-----------------\n",
      "    libblas-3.9.0              |  34_h5709861_mkl          69 KB  conda-forge\n",
      "    libcblas-3.9.0             |  34_h2a3cdd5_mkl          69 KB  conda-forge\n",
      "    libhwloc-2.12.1            |default_h88281d1_1000         2.3 MB  conda-forge\n",
      "    liblapack-3.9.0            |  34_hf9ab0e9_mkl          80 KB  conda-forge\n",
      "    libwinpthread-12.0.0.r4.gg4f2fc60ca|       h57928b3_9          35 KB  conda-forge\n",
      "    llvm-openmp-20.1.8         |       hfa2b4ca_1         287 KB  conda-forge\n",
      "    mkl-2024.2.2               |      h57928b3_16        98.3 MB  conda-forge\n",
      "    numpy-2.3.2                |  py313hce7ae62_0         7.1 MB  conda-forge\n",
      "    tbb-2021.13.0              |       h18a62a1_2         146 KB  conda-forge\n",
      "    ------------------------------------------------------------\n",
      "                                           Total:       108.4 MB\n",
      "\n",
      "The following NEW packages will be INSTALLED:\n",
      "\n",
      "  libblas            conda-forge/win-64::libblas-3.9.0-34_h5709861_mkl \n",
      "  libcblas           conda-forge/win-64::libcblas-3.9.0-34_h2a3cdd5_mkl \n",
      "  libhwloc           conda-forge/win-64::libhwloc-2.12.1-default_h88281d1_1000 \n",
      "  liblapack          conda-forge/win-64::liblapack-3.9.0-34_hf9ab0e9_mkl \n",
      "  libwinpthread      conda-forge/win-64::libwinpthread-12.0.0.r4.gg4f2fc60ca-h57928b3_9 \n",
      "  llvm-openmp        conda-forge/win-64::llvm-openmp-20.1.8-hfa2b4ca_1 \n",
      "  mkl                conda-forge/win-64::mkl-2024.2.2-h57928b3_16 \n",
      "  numpy              conda-forge/win-64::numpy-2.3.2-py313hce7ae62_0 \n",
      "  tbb                conda-forge/win-64::tbb-2021.13.0-h18a62a1_2 \n",
      "\n",
      "\n",
      "\n",
      "Downloading and Extracting Packages: ...working...\n",
      "mkl-2024.2.2         | 98.3 MB   |            |   0% \n",
      "\n",
      "numpy-2.3.2          | 7.1 MB    |            |   0% \u001b[A\n",
      "\n",
      "\n",
      "libhwloc-2.12.1      | 2.3 MB    |            |   0% \u001b[A\u001b[A\n",
      "\n",
      "\n",
      "\n",
      "llvm-openmp-20.1.8   | 287 KB    |            |   0% \u001b[A\u001b[A\u001b[A\n",
      "\n",
      "\n",
      "\n",
      "\n",
      "tbb-2021.13.0        | 146 KB    |            |   0% \u001b[A\u001b[A\u001b[A\u001b[A\n",
      "\n",
      "\n",
      "\n",
      "\n",
      "\n",
      "liblapack-3.9.0      | 80 KB     |            |   0% \u001b[A\u001b[A\u001b[A\u001b[A\u001b[A\n",
      "\n",
      "\n",
      "\n",
      "\n",
      "\n",
      "\n",
      "libcblas-3.9.0       | 69 KB     |            |   0% \u001b[A\u001b[A\u001b[A\u001b[A\u001b[A\u001b[A\n",
      "\n",
      "\n",
      "\n",
      "\n",
      "\n",
      "\n",
      "\n",
      "libblas-3.9.0        | 69 KB     |            |   0% \u001b[A\u001b[A\u001b[A\u001b[A\u001b[A\u001b[A\u001b[A\n",
      "\n",
      "\n",
      "\n",
      "\n",
      "\n",
      "\n",
      "\n",
      "\n",
      "libwinpthread-12.0.0 | 35 KB     |            |   0% \u001b[A\u001b[A\u001b[A\u001b[A\u001b[A\u001b[A\u001b[A\u001b[A\n",
      "\n",
      "numpy-2.3.2          | 7.1 MB    |            |   0% \u001b[A\n",
      "mkl-2024.2.2         | 98.3 MB   |            |   0% \n",
      "\n",
      "\n",
      "libhwloc-2.12.1      | 2.3 MB    |            |   1% \u001b[A\u001b[A\n",
      "\n",
      "\n",
      "\n",
      "\n",
      "tbb-2021.13.0        | 146 KB    | #          |  11% \u001b[A\u001b[A\u001b[A\u001b[A\n",
      "\n",
      "numpy-2.3.2          | 7.1 MB    | 2          |   2% \u001b[A\n",
      "\n",
      "\n",
      "\n",
      "llvm-openmp-20.1.8   | 287 KB    | 5          |   6% \u001b[A\u001b[A\u001b[A\n",
      "mkl-2024.2.2         | 98.3 MB   |            |   0% \n",
      "\n",
      "\n",
      "\n",
      "\n",
      "tbb-2021.13.0        | 146 KB    | ########## | 100% \u001b[A\u001b[A\u001b[A\u001b[A\n",
      "\n",
      "\n",
      "libhwloc-2.12.1      | 2.3 MB    | 8          |   8% \u001b[A\u001b[A\n",
      "\n",
      "numpy-2.3.2          | 7.1 MB    | 3          |   4% \u001b[A\n",
      "\n",
      "\n",
      "\n",
      "llvm-openmp-20.1.8   | 287 KB    | ######6    |  67% \u001b[A\u001b[A\u001b[A\n",
      "\n",
      "\n",
      "\n",
      "\n",
      "\n",
      "liblapack-3.9.0      | 80 KB     | #9         |  20% \u001b[A\u001b[A\u001b[A\u001b[A\u001b[A\n",
      "\n",
      "\n",
      "\n",
      "llvm-openmp-20.1.8   | 287 KB    | ########## | 100% \u001b[A\u001b[A\u001b[A\n",
      "mkl-2024.2.2         | 98.3 MB   |            |   0% \n",
      "\n",
      "\n",
      "libhwloc-2.12.1      | 2.3 MB    | #9         |  19% \u001b[A\u001b[A\n",
      "\n",
      "\n",
      "\n",
      "\n",
      "\n",
      "liblapack-3.9.0      | 80 KB     | ########## | 100% \u001b[A\u001b[A\u001b[A\u001b[A\u001b[A\n",
      "\n",
      "numpy-2.3.2          | 7.1 MB    | 5          |   5% \u001b[A\n",
      "\n",
      "\n",
      "\n",
      "\n",
      "tbb-2021.13.0        | 146 KB    | ########## | 100% \u001b[A\u001b[A\u001b[A\u001b[A\n",
      "\n",
      "\n",
      "\n",
      "\n",
      "\n",
      "\n",
      "libcblas-3.9.0       | 69 KB     | ##3        |  23% \u001b[A\u001b[A\u001b[A\u001b[A\u001b[A\u001b[A\n",
      "\n",
      "\n",
      "\n",
      "\n",
      "tbb-2021.13.0        | 146 KB    | ########## | 100% \u001b[A\u001b[A\u001b[A\u001b[A\n",
      "\n",
      "\n",
      "\n",
      "\n",
      "\n",
      "\n",
      "\n",
      "libblas-3.9.0        | 69 KB     | ##3        |  23% \u001b[A\u001b[A\u001b[A\u001b[A\u001b[A\u001b[A\u001b[A\n",
      "\n",
      "\n",
      "\n",
      "\n",
      "\n",
      "\n",
      "libcblas-3.9.0       | 69 KB     | ########## | 100% \u001b[A\u001b[A\u001b[A\u001b[A\u001b[A\u001b[A\n",
      "mkl-2024.2.2         | 98.3 MB   |            |   1% \n",
      "\n",
      "\n",
      "libhwloc-2.12.1      | 2.3 MB    | ###1       |  32% \u001b[A\u001b[A\n",
      "\n",
      "\n",
      "\n",
      "\n",
      "\n",
      "\n",
      "\n",
      "libblas-3.9.0        | 69 KB     | ########## | 100% \u001b[A\u001b[A\u001b[A\u001b[A\u001b[A\u001b[A\u001b[A\n",
      "\n",
      "numpy-2.3.2          | 7.1 MB    | 7          |   8% \u001b[A\n",
      "mkl-2024.2.2         | 98.3 MB   | 1          |   1% \n",
      "\n",
      "\n",
      "libhwloc-2.12.1      | 2.3 MB    | ####3      |  43% \u001b[A\u001b[A\n",
      "\n",
      "\n",
      "\n",
      "\n",
      "\n",
      "\n",
      "\n",
      "\n",
      "libwinpthread-12.0.0 | 35 KB     | ####5      |  46% \u001b[A\u001b[A\u001b[A\u001b[A\u001b[A\u001b[A\u001b[A\u001b[A\n",
      "\n",
      "\n",
      "\n",
      "\n",
      "\n",
      "\n",
      "\n",
      "\n",
      "libwinpthread-12.0.0 | 35 KB     | ########## | 100% \u001b[A\u001b[A\u001b[A\u001b[A\u001b[A\u001b[A\u001b[A\u001b[A\n",
      "\n",
      "\n",
      "\n",
      "\n",
      "\n",
      "\n",
      "\n",
      "\n",
      "libwinpthread-12.0.0 | 35 KB     | ########## | 100% \u001b[A\u001b[A\u001b[A\u001b[A\u001b[A\u001b[A\u001b[A\u001b[A\n",
      "\n",
      "numpy-2.3.2          | 7.1 MB    | 9          |  10% \u001b[A\n",
      "mkl-2024.2.2         | 98.3 MB   | 1          |   1% \n",
      "\n",
      "\n",
      "libhwloc-2.12.1      | 2.3 MB    | #####3     |  54% \u001b[A\u001b[A\n",
      "\n",
      "numpy-2.3.2          | 7.1 MB    | #2         |  12% \u001b[A\n",
      "\n",
      "\n",
      "\n",
      "\n",
      "\n",
      "liblapack-3.9.0      | 80 KB     | ########## | 100% \u001b[A\u001b[A\u001b[A\u001b[A\u001b[A\n",
      "mkl-2024.2.2         | 98.3 MB   | 1          |   1% \n",
      "\n",
      "\n",
      "\n",
      "\n",
      "\n",
      "liblapack-3.9.0      | 80 KB     | ########## | 100% \u001b[A\u001b[A\u001b[A\u001b[A\u001b[A\n",
      "\n",
      "\n",
      "libhwloc-2.12.1      | 2.3 MB    | ######5    |  65% \u001b[A\u001b[A\n",
      "\n",
      "\n",
      "\n",
      "llvm-openmp-20.1.8   | 287 KB    | ########## | 100% \u001b[A\u001b[A\u001b[A\n",
      "\n",
      "\n",
      "\n",
      "\n",
      "\n",
      "\n",
      "libcblas-3.9.0       | 69 KB     | ########## | 100% \u001b[A\u001b[A\u001b[A\u001b[A\u001b[A\u001b[A\n",
      "\n",
      "\n",
      "\n",
      "\n",
      "\n",
      "\n",
      "libcblas-3.9.0       | 69 KB     | ########## | 100% \u001b[A\u001b[A\u001b[A\u001b[A\u001b[A\u001b[A\n",
      "mkl-2024.2.2         | 98.3 MB   | 1          |   2% \n",
      "\n",
      "numpy-2.3.2          | 7.1 MB    | #4         |  15% \u001b[A\n",
      "\n",
      "\n",
      "libhwloc-2.12.1      | 2.3 MB    | #######7   |  77% \u001b[A\u001b[A\n",
      "mkl-2024.2.2         | 98.3 MB   | 1          |   2% \n",
      "\n",
      "numpy-2.3.2          | 7.1 MB    | #7         |  17% \u001b[A\n",
      "\n",
      "\n",
      "\n",
      "\n",
      "\n",
      "\n",
      "\n",
      "\n",
      "libwinpthread-12.0.0 | 35 KB     | ########## | 100% \u001b[A\u001b[A\u001b[A\u001b[A\u001b[A\u001b[A\u001b[A\u001b[A\n",
      "\n",
      "\n",
      "libhwloc-2.12.1      | 2.3 MB    | #########1 |  91% \u001b[A\u001b[A\n",
      "\n",
      "\n",
      "\n",
      "\n",
      "\n",
      "\n",
      "\n",
      "libblas-3.9.0        | 69 KB     | ########## | 100% \u001b[A\u001b[A\u001b[A\u001b[A\u001b[A\u001b[A\u001b[A\n",
      "\n",
      "\n",
      "\n",
      "\n",
      "\n",
      "\n",
      "\n",
      "libblas-3.9.0        | 69 KB     | ########## | 100% \u001b[A\u001b[A\u001b[A\u001b[A\u001b[A\u001b[A\u001b[A\n",
      "mkl-2024.2.2         | 98.3 MB   | 2          |   2% \n",
      "\n",
      "numpy-2.3.2          | 7.1 MB    | #9         |  19% \u001b[A\n",
      "\n",
      "\n",
      "libhwloc-2.12.1      | 2.3 MB    | ########## | 100% \u001b[A\u001b[A\n",
      "mkl-2024.2.2         | 98.3 MB   | 2          |   2% \n",
      "\n",
      "numpy-2.3.2          | 7.1 MB    | ##2        |  22% \u001b[A\n",
      "mkl-2024.2.2         | 98.3 MB   | 2          |   3% \n",
      "\n",
      "numpy-2.3.2          | 7.1 MB    | ##5        |  26% \u001b[A\n",
      "mkl-2024.2.2         | 98.3 MB   | 3          |   3% \n",
      "\n",
      "numpy-2.3.2          | 7.1 MB    | ###        |  30% \u001b[A\n",
      "mkl-2024.2.2         | 98.3 MB   | 3          |   3% \n",
      "\n",
      "numpy-2.3.2          | 7.1 MB    | ###3       |  34% \u001b[A\n",
      "mkl-2024.2.2         | 98.3 MB   | 3          |   4% \n",
      "\n",
      "numpy-2.3.2          | 7.1 MB    | ###9       |  39% \u001b[A\n",
      "mkl-2024.2.2         | 98.3 MB   | 4          |   4% \n",
      "\n",
      "numpy-2.3.2          | 7.1 MB    | ####3      |  44% \u001b[A\n",
      "mkl-2024.2.2         | 98.3 MB   | 4          |   5% \n",
      "\n",
      "numpy-2.3.2          | 7.1 MB    | ####8      |  48% \u001b[A\n",
      "mkl-2024.2.2         | 98.3 MB   | 5          |   5% \n",
      "\n",
      "numpy-2.3.2          | 7.1 MB    | #####2     |  52% \u001b[A\n",
      "\n",
      "numpy-2.3.2          | 7.1 MB    | #####7     |  57% \u001b[A\n",
      "mkl-2024.2.2         | 98.3 MB   | 5          |   5% \n",
      "\n",
      "numpy-2.3.2          | 7.1 MB    | ######3    |  63% \u001b[A\n",
      "mkl-2024.2.2         | 98.3 MB   | 5          |   6% \n",
      "\n",
      "numpy-2.3.2          | 7.1 MB    | ######7    |  67% \u001b[A\n",
      "mkl-2024.2.2         | 98.3 MB   | 6          |   6% \n",
      "\n",
      "numpy-2.3.2          | 7.1 MB    | #######2   |  73% \u001b[A\n",
      "mkl-2024.2.2         | 98.3 MB   | 6          |   7% \n",
      "\n",
      "numpy-2.3.2          | 7.1 MB    | #######7   |  77% \u001b[A\n",
      "mkl-2024.2.2         | 98.3 MB   | 6          |   7% \n",
      "\n",
      "numpy-2.3.2          | 7.1 MB    | ########3  |  83% \u001b[A\n",
      "mkl-2024.2.2         | 98.3 MB   | 7          |   7% \n",
      "\n",
      "numpy-2.3.2          | 7.1 MB    | ########9  |  90% \u001b[A\n",
      "mkl-2024.2.2         | 98.3 MB   | 7          |   8% \n",
      "\n",
      "numpy-2.3.2          | 7.1 MB    | #########5 |  96% \u001b[A\n",
      "mkl-2024.2.2         | 98.3 MB   | 8          |   8% \n",
      "mkl-2024.2.2         | 98.3 MB   | 8          |   9% \n",
      "\n",
      "numpy-2.3.2          | 7.1 MB    | ########## | 100% \u001b[A\n",
      "mkl-2024.2.2         | 98.3 MB   | 9          |   9% \n",
      "mkl-2024.2.2         | 98.3 MB   | 9          |  10% \n",
      "\n",
      "\n",
      "libhwloc-2.12.1      | 2.3 MB    | ########## | 100% \u001b[A\u001b[A\n",
      "mkl-2024.2.2         | 98.3 MB   | #          |  10% \n",
      "mkl-2024.2.2         | 98.3 MB   | #1         |  11% \n",
      "mkl-2024.2.2         | 98.3 MB   | #2         |  12% \n",
      "mkl-2024.2.2         | 98.3 MB   | #2         |  13% \n",
      "mkl-2024.2.2         | 98.3 MB   | #3         |  14% \n",
      "mkl-2024.2.2         | 98.3 MB   | #4         |  14% \n",
      "mkl-2024.2.2         | 98.3 MB   | #5         |  15% \n",
      "mkl-2024.2.2         | 98.3 MB   | #6         |  16% \n",
      "mkl-2024.2.2         | 98.3 MB   | #7         |  17% \n",
      "mkl-2024.2.2         | 98.3 MB   | #7         |  18% \n",
      "mkl-2024.2.2         | 98.3 MB   | #8         |  19% \n",
      "mkl-2024.2.2         | 98.3 MB   | #9         |  20% \n",
      "mkl-2024.2.2         | 98.3 MB   | ##         |  20% \n",
      "mkl-2024.2.2         | 98.3 MB   | ##1        |  21% \n",
      "mkl-2024.2.2         | 98.3 MB   | ##1        |  22% \n",
      "mkl-2024.2.2         | 98.3 MB   | ##2        |  23% \n",
      "mkl-2024.2.2         | 98.3 MB   | ##3        |  24% \n",
      "mkl-2024.2.2         | 98.3 MB   | ##4        |  25% \n",
      "mkl-2024.2.2         | 98.3 MB   | ##5        |  25% \n",
      "mkl-2024.2.2         | 98.3 MB   | ##6        |  27% \n",
      "mkl-2024.2.2         | 98.3 MB   | ##7        |  28% \n",
      "mkl-2024.2.2         | 98.3 MB   | ##8        |  29% \n",
      "mkl-2024.2.2         | 98.3 MB   | ##9        |  30% \n",
      "mkl-2024.2.2         | 98.3 MB   | ###        |  31% \n",
      "mkl-2024.2.2         | 98.3 MB   | ###2       |  32% \n",
      "mkl-2024.2.2         | 98.3 MB   | ###3       |  33% \n",
      "mkl-2024.2.2         | 98.3 MB   | ###4       |  34% \n",
      "mkl-2024.2.2         | 98.3 MB   | ###5       |  35% \n",
      "mkl-2024.2.2         | 98.3 MB   | ###6       |  36% \n",
      "mkl-2024.2.2         | 98.3 MB   | ###6       |  37% \n",
      "mkl-2024.2.2         | 98.3 MB   | ###7       |  38% \n",
      "mkl-2024.2.2         | 98.3 MB   | ###8       |  39% \n",
      "mkl-2024.2.2         | 98.3 MB   | ###9       |  39% \n",
      "mkl-2024.2.2         | 98.3 MB   | ####       |  40% \n",
      "mkl-2024.2.2         | 98.3 MB   | ####       |  41% \n",
      "mkl-2024.2.2         | 98.3 MB   | ####1      |  42% \n",
      "mkl-2024.2.2         | 98.3 MB   | ####2      |  42% \n",
      "mkl-2024.2.2         | 98.3 MB   | ####3      |  44% \n",
      "mkl-2024.2.2         | 98.3 MB   | ####4      |  45% \n",
      "mkl-2024.2.2         | 98.3 MB   | ####5      |  45% \n",
      "mkl-2024.2.2         | 98.3 MB   | ####6      |  46% \n",
      "\n",
      "numpy-2.3.2          | 7.1 MB    | ########## | 100% \u001b[A\n",
      "mkl-2024.2.2         | 98.3 MB   | ####7      |  47% \n",
      "mkl-2024.2.2         | 98.3 MB   | ####7      |  48% \n",
      "mkl-2024.2.2         | 98.3 MB   | ####8      |  48% \n",
      "mkl-2024.2.2         | 98.3 MB   | ####9      |  49% \n",
      "mkl-2024.2.2         | 98.3 MB   | ####9      |  50% \n",
      "mkl-2024.2.2         | 98.3 MB   | #####      |  51% \n",
      "mkl-2024.2.2         | 98.3 MB   | #####1     |  51% \n",
      "mkl-2024.2.2         | 98.3 MB   | #####2     |  52% \n",
      "mkl-2024.2.2         | 98.3 MB   | #####2     |  53% \n",
      "mkl-2024.2.2         | 98.3 MB   | #####3     |  54% \n",
      "mkl-2024.2.2         | 98.3 MB   | #####4     |  54% \n",
      "mkl-2024.2.2         | 98.3 MB   | #####5     |  55% \n",
      "mkl-2024.2.2         | 98.3 MB   | #####5     |  56% \n",
      "mkl-2024.2.2         | 98.3 MB   | #####6     |  57% \n",
      "mkl-2024.2.2         | 98.3 MB   | #####7     |  57% \n",
      "mkl-2024.2.2         | 98.3 MB   | #####7     |  58% \n",
      "mkl-2024.2.2         | 98.3 MB   | #####8     |  59% \n",
      "mkl-2024.2.2         | 98.3 MB   | #####9     |  59% \n",
      "mkl-2024.2.2         | 98.3 MB   | ######     |  60% \n",
      "mkl-2024.2.2         | 98.3 MB   | ######     |  61% \n",
      "mkl-2024.2.2         | 98.3 MB   | ######1    |  62% \n",
      "mkl-2024.2.2         | 98.3 MB   | ######2    |  62% \n",
      "mkl-2024.2.2         | 98.3 MB   | ######3    |  63% \n",
      "mkl-2024.2.2         | 98.3 MB   | ######3    |  64% \n",
      "mkl-2024.2.2         | 98.3 MB   | ######4    |  65% \n",
      "mkl-2024.2.2         | 98.3 MB   | ######5    |  66% \n",
      "mkl-2024.2.2         | 98.3 MB   | ######6    |  67% \n",
      "mkl-2024.2.2         | 98.3 MB   | ######7    |  67% \n",
      "mkl-2024.2.2         | 98.3 MB   | ######8    |  68% \n",
      "mkl-2024.2.2         | 98.3 MB   | ######9    |  69% \n",
      "mkl-2024.2.2         | 98.3 MB   | ######9    |  70% \n",
      "mkl-2024.2.2         | 98.3 MB   | #######    |  71% \n",
      "mkl-2024.2.2         | 98.3 MB   | #######1   |  71% \n",
      "mkl-2024.2.2         | 98.3 MB   | #######2   |  72% \n",
      "mkl-2024.2.2         | 98.3 MB   | #######2   |  73% \n",
      "mkl-2024.2.2         | 98.3 MB   | #######3   |  74% \n",
      "mkl-2024.2.2         | 98.3 MB   | #######4   |  74% \n",
      "mkl-2024.2.2         | 98.3 MB   | #######4   |  75% \n",
      "mkl-2024.2.2         | 98.3 MB   | #######5   |  76% \n",
      "mkl-2024.2.2         | 98.3 MB   | #######6   |  76% \n",
      "mkl-2024.2.2         | 98.3 MB   | #######7   |  77% \n",
      "mkl-2024.2.2         | 98.3 MB   | #######7   |  78% \n",
      "mkl-2024.2.2         | 98.3 MB   | #######8   |  79% \n",
      "mkl-2024.2.2         | 98.3 MB   | #######9   |  79% \n",
      "mkl-2024.2.2         | 98.3 MB   | #######9   |  80% \n",
      "mkl-2024.2.2         | 98.3 MB   | ########   |  81% \n",
      "mkl-2024.2.2         | 98.3 MB   | ########1  |  82% \n",
      "mkl-2024.2.2         | 98.3 MB   | ########2  |  82% \n",
      "mkl-2024.2.2         | 98.3 MB   | ########3  |  83% \n",
      "mkl-2024.2.2         | 98.3 MB   | ########3  |  84% \n",
      "mkl-2024.2.2         | 98.3 MB   | ########4  |  85% \n",
      "mkl-2024.2.2         | 98.3 MB   | ########5  |  86% \n",
      "mkl-2024.2.2         | 98.3 MB   | ########6  |  86% \n",
      "mkl-2024.2.2         | 98.3 MB   | ########7  |  87% \n",
      "mkl-2024.2.2         | 98.3 MB   | ########8  |  88% \n",
      "mkl-2024.2.2         | 98.3 MB   | ########8  |  89% \n",
      "mkl-2024.2.2         | 98.3 MB   | ########9  |  90% \n",
      "mkl-2024.2.2         | 98.3 MB   | #########  |  90% \n",
      "mkl-2024.2.2         | 98.3 MB   | #########1 |  91% \n",
      "mkl-2024.2.2         | 98.3 MB   | #########2 |  92% \n",
      "mkl-2024.2.2         | 98.3 MB   | #########2 |  93% \n",
      "mkl-2024.2.2         | 98.3 MB   | #########3 |  94% \n",
      "mkl-2024.2.2         | 98.3 MB   | #########4 |  95% \n",
      "mkl-2024.2.2         | 98.3 MB   | #########5 |  96% \n",
      "mkl-2024.2.2         | 98.3 MB   | #########6 |  97% \n",
      "mkl-2024.2.2         | 98.3 MB   | #########7 |  98% \n",
      "mkl-2024.2.2         | 98.3 MB   | #########8 |  98% \n",
      "mkl-2024.2.2         | 98.3 MB   | #########9 |  99% \n",
      "mkl-2024.2.2         | 98.3 MB   | #########9 | 100% \n",
      "mkl-2024.2.2         | 98.3 MB   | ########## | 100% \n",
      "mkl-2024.2.2         | 98.3 MB   | ########## | 100% \n",
      "                                                     \n",
      "\n",
      "\n",
      "                                                     \u001b[A\n",
      "\n",
      "\n",
      "                                                     \u001b[A\u001b[A\n",
      "\n",
      "\n",
      "\n",
      "                                                     \u001b[A\u001b[A\u001b[A\n",
      "\n",
      "\n",
      "\n",
      "\n",
      "                                                     \u001b[A\u001b[A\u001b[A\u001b[A\n",
      "\n",
      "\n",
      "\n",
      "\n",
      "\n",
      "                                                     \u001b[A\u001b[A\u001b[A\u001b[A\u001b[A\n",
      "\n",
      "\n",
      "\n",
      "\n",
      "\n",
      "\n",
      "                                                     \u001b[A\u001b[A\u001b[A\u001b[A\u001b[A\u001b[A\n",
      "\n",
      "\n",
      "\n",
      "\n",
      "\n",
      "\n",
      "\n",
      "                                                     \u001b[A\u001b[A\u001b[A\u001b[A\u001b[A\u001b[A\u001b[A\n",
      "\n",
      "\n",
      "\n",
      "\n",
      "\n",
      "\n",
      "\n",
      "\n",
      "                                                     \u001b[A\u001b[A\u001b[A\u001b[A\u001b[A\u001b[A\u001b[A\u001b[A done\n",
      "Preparing transaction: done\n",
      "Verifying transaction: done\n",
      "Executing transaction: done\n"
     ]
    }
   ],
   "source": [
    "!conda install numpy -c conda-forge -y"
   ]
  },
  {
   "attachments": {},
   "cell_type": "markdown",
   "id": "123456",
   "metadata": {},
   "source": [
    "## 10.4 Why so many packages?"
   ]
  },
  {
   "cell_type": "code",
   "execution_count": null,
   "id": "345dce2e",
   "metadata": {},
   "outputs": [],
   "source": [
    "np.sqrt([4,9,16])"
   ]
  },
  {
   "attachments": {},
   "cell_type": "markdown",
   "id": "123456",
   "metadata": {},
   "source": [
    "# 11 The dot (.)"
   ]
  },
  {
   "cell_type": "code",
   "execution_count": null,
   "id": "d541586d",
   "metadata": {},
   "outputs": [],
   "source": [
    "math.sqrt(4)\n",
    "np.sqrt(4)"
   ]
  },
  {
   "cell_type": "code",
   "execution_count": 8,
   "id": "c5715ee0",
   "metadata": {},
   "outputs": [
    {
     "data": {
      "text/plain": [
       "['I', 'am', 'Batman']"
      ]
     },
     "execution_count": 8,
     "metadata": {},
     "output_type": "execute_result"
    }
   ],
   "source": [
    "\"I am Batman\".split()"
   ]
  },
  {
   "cell_type": "code",
   "execution_count": 9,
   "id": "cd4530d3",
   "metadata": {},
   "outputs": [
    {
     "ename": "SyntaxError",
     "evalue": "invalid decimal literal (628774023.py, line 1)",
     "output_type": "error",
     "traceback": [
      "  \u001b[36mCell\u001b[39m\u001b[36m \u001b[39m\u001b[32mIn[9]\u001b[39m\u001b[32m, line 1\u001b[39m\n\u001b[31m    \u001b[39m\u001b[31m1234.split()    #doesn't make sense to split a number\u001b[39m\n        ^\n\u001b[31mSyntaxError\u001b[39m\u001b[31m:\u001b[39m invalid decimal literal\n"
     ]
    }
   ],
   "source": [
    "1234.split()    #doesn't make sense to split a number"
   ]
  },
  {
   "attachments": {},
   "cell_type": "markdown",
   "id": "123456",
   "metadata": {},
   "source": [
    "## Footnotes"
   ]
  },
  {
   "cell_type": "code",
   "execution_count": 14,
   "id": "f4f5eeae",
   "metadata": {},
   "outputs": [
    {
     "data": {
      "text/plain": [
       "'APPLE'"
      ]
     },
     "execution_count": 14,
     "metadata": {},
     "output_type": "execute_result"
    }
   ],
   "source": [
    "\"apple\".upper()"
   ]
  },
  {
   "cell_type": "code",
   "execution_count": 15,
   "id": "fed01374",
   "metadata": {},
   "outputs": [
    {
     "data": {
      "text/plain": [
       "'Apple'"
      ]
     },
     "execution_count": 15,
     "metadata": {},
     "output_type": "execute_result"
    }
   ],
   "source": [
    "\"apple\".title()"
   ]
  }
 ],
 "metadata": {
  "kernelspec": {
   "display_name": "base",
   "language": "python",
   "name": "python3"
  },
  "language_info": {
   "codemirror_mode": {
    "name": "ipython",
    "version": 3
   },
   "file_extension": ".py",
   "mimetype": "text/x-python",
   "name": "python",
   "nbconvert_exporter": "python",
   "pygments_lexer": "ipython3",
   "version": "3.13.5"
  },
  "toc": {
   "base_numbering": 1,
   "nav_menu": {},
   "number_sections": true,
   "sideBar": true,
   "skip_h1_title": false,
   "title_cell": "Table of Contents",
   "title_sidebar": "Contents",
   "toc_cell": false,
   "toc_position": {},
   "toc_section_display": true,
   "toc_window_display": false
  }
 },
 "nbformat": 4,
 "nbformat_minor": 5
}
