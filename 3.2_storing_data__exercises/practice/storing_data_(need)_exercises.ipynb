{
 "cells": [
  {
   "attachments": {},
   "cell_type": "markdown",
   "id": "123456",
   "metadata": {},
   "source": [
    "<div style=\"text-align:left;font-size:2em\"><span style=\"font-weight:bolder;font-size:1.25em\">SP2273 | Learning Portfolio</span><br><br><span style=\"font-weight:bold;color:darkred\">Storing Data (Need) Exercises</span></div>"
   ]
  },
  {
   "cell_type": "markdown",
   "id": "4adb31f3",
   "metadata": {},
   "source": [
    "## Exercise 1 (Total recall?)"
   ]
  },
  {
   "cell_type": "markdown",
   "id": "f6f25bc4",
   "metadata": {},
   "source": [
    "1. Both lists and arrays allow access to data by using the position of the element in the list (Starting from 0). Both lists and arrays can be multiplied. \n",
    "1. Lists operate via Python and arrays operate under Numpy. Numpy array formats every element in the array to English '' (str) while Python lists allows the elements in the list to consist of English ''(str) and numbers. \n",
    "1. Dictionary is a method of data storage where every element has a keyword associated that allows data retrieval to be specific to that keyword used in the dictionary, hence only 1 list is required, unlike with lists and arrays. \n"
   ]
  },
  {
   "cell_type": "markdown",
   "id": "2d212c6d",
   "metadata": {},
   "source": [
    "## Exercise 2 (Indexing)"
   ]
  },
  {
   "cell_type": "code",
   "execution_count": 3,
   "id": "07484608",
   "metadata": {},
   "outputs": [
    {
     "name": "stdout",
     "output_type": "stream",
     "text": [
      "a1\n",
      "c3\n",
      "e5\n",
      "g7\n",
      "i9\n"
     ]
    }
   ],
   "source": [
    "py_list = [\"a1\", \"b2\", \"c3\", \"d4\", \"e5\", \"f6\", \"g7\", \"h8\", \"i9\", \"j10\"]\n",
    "print(py_list[0])   # Prints 'a1'\n",
    "print(py_list[2])   # Prints 'c3'\n",
    "print(py_list[4])   # Prints 'e5'\n",
    "print(py_list[6])   # Prints 'g7'\n",
    "print(py_list[8])   # Prints 'i9'"
   ]
  },
  {
   "cell_type": "markdown",
   "id": "e3b3e976",
   "metadata": {},
   "source": [
    "## Exercise 3 (Index again)"
   ]
  },
  {
   "cell_type": "code",
   "execution_count": 4,
   "id": "8601956a",
   "metadata": {},
   "outputs": [
    {
     "name": "stdout",
     "output_type": "stream",
     "text": [
      "Boron\n",
      "Boron\n"
     ]
    }
   ],
   "source": [
    "elements = ['Hydrogen',\n",
    "            'Helium', 'Lithium',\n",
    "            'Beryllium', 'Boron', 'Carbon',\n",
    "            'Nitrogen', 'Oxygen',\n",
    "            'Fluorine',\n",
    "            'Neon']\n",
    "\n",
    "print(elements[4])\n",
    "print(elements[-6])"
   ]
  },
  {
   "cell_type": "markdown",
   "id": "d311a2c1",
   "metadata": {},
   "source": [
    "## Exercise 4 (How many ones)"
   ]
  },
  {
   "cell_type": "code",
   "execution_count": 1,
   "id": "7dc7e078",
   "metadata": {},
   "outputs": [],
   "source": [
    "import numpy as np"
   ]
  },
  {
   "cell_type": "code",
   "execution_count": 7,
   "id": "5c60c551",
   "metadata": {},
   "outputs": [],
   "source": [
    "numbers=[45, 60, 1, 30, 96, 1, 96, 57, 16, 1,\n",
    "        99, 62, 86, 43, 42, 60, 59, 1, 1, 35,\n",
    "        83, 47, 34, 28, 68, 23, 22, 92, 1, 79,\n",
    "        1, 29, 94, 72, 46, 47, 1, 74, 32, 20,\n",
    "        8, 37, 35, 1, 89, 29, 86, 19, 43, 61]                  "
   ]
  },
  {
   "cell_type": "code",
   "execution_count": 11,
   "id": "a670858f",
   "metadata": {},
   "outputs": [
    {
     "name": "stdout",
     "output_type": "stream",
     "text": [
      "9\n"
     ]
    }
   ],
   "source": [
    "np_numbers=np.array(numbers)\n",
    "true_false=np.array(np_numbers==1)\n",
    "count=np.sum(true_false)\n",
    "\n",
    "print(count)"
   ]
  },
  {
   "cell_type": "code",
   "execution_count": 5,
   "id": "4fffb1d2",
   "metadata": {},
   "outputs": [
    {
     "name": "stdout",
     "output_type": "stream",
     "text": [
      "9\n"
     ]
    }
   ],
   "source": [
    "np_numbers=np.array(numbers) # convert list to np array\n",
    "np_numbers_true_false=np.array(np_numbers == 1) # convert true false list to array\n",
    "count_of_trues = np.sum(np_numbers_true_false) # treat false as 0, true as 1, then sum\n",
    "print(count_of_trues)"
   ]
  },
  {
   "cell_type": "markdown",
   "id": "7ed7b6cd",
   "metadata": {},
   "source": [
    "## Exercise 5 (A matter of Statistics)"
   ]
  },
  {
   "cell_type": "code",
   "execution_count": 7,
   "id": "c9d62674",
   "metadata": {},
   "outputs": [
    {
     "name": "stdout",
     "output_type": "stream",
     "text": [
      "38.5\n",
      "302.5\n",
      "32.41990129534635\n",
      "326.0893282522444\n",
      "0.9871796626270701\n",
      "0.9871796626270701\n"
     ]
    }
   ],
   "source": [
    "x_1 = [1, 4, 9, 16, 25, 36, 49, 64, 81, 100]\n",
    "x_2 = [1, 8, 27, 64, 125, 216, 343, 512, 729, 1000]\n",
    "\n",
    "np_x1=np.array(x_1)\n",
    "np_x2=np.array(x_2)\n",
    "\n",
    "x1_mean=np_x1.mean()\n",
    "x2_mean=np_x2.mean()\n",
    "\n",
    "print(x1_mean)\n",
    "print(x2_mean)\n",
    "\n",
    "print(np_x1.std())\n",
    "print(np_x2.std())\n",
    "\n",
    "x_var=np_x1-x1_mean\n",
    "y_var=np_x2-x2_mean\n",
    "x_sq_var=(np_x1-x1_mean)**2\n",
    "y_sq_var=(np_x2-x2_mean)**2\n",
    "r=np.sum(x_var*y_var)/np.sqrt(np.sum(x_sq_var)*np.sum(y_sq_var))\n",
    "print (r)\n",
    "\n",
    "correlation_matrix=np.corrcoef(np_x1,np_x2)\n",
    "pearson_coeff=correlation_matrix[0,1] # extractomg the coefficient\n",
    "print(pearson_coeff)"
   ]
  },
  {
   "cell_type": "code",
   "execution_count": 19,
   "id": "f8d9f75a",
   "metadata": {},
   "outputs": [
    {
     "name": "stdout",
     "output_type": "stream",
     "text": [
      "38.5\n",
      "302.5\n",
      "32.41990129534635\n",
      "326.0893282522444\n",
      "0.987084764269163\n",
      "0.9871796626270701\n"
     ]
    }
   ],
   "source": [
    "x_1 = [1, 4, 9, 16, 25, 36, 49, 64, 81, 100]\n",
    "x_2 = [1, 8, 27, 64, 125, 216, 343, 512, 729, 1000]\n",
    "\n",
    "np_x_1=np.array(x_1)\n",
    "np_x_2=np.array(x_2)\n",
    "\n",
    "mean1=np.mean(np_x_1)\n",
    "mean2=np.mean(np_x_2)\n",
    "\n",
    "std1=np.std(np_x_1)\n",
    "std2=np.std(np_x_2)\n",
    "\n",
    "int_mean1=int(mean1)\n",
    "int_mean2=int(mean2)\n",
    "x_vari=np_x_1-int_mean1\n",
    "y_vari=np_x_2-int_mean2\n",
    "x_vari_sq=x_vari**2\n",
    "y_vari_sq=y_vari**2\n",
    "r=(np.sum(x_vari*y_vari))/(np.sqrt(np.sum(x_vari_sq)*np.sum(y_vari_sq)))\n",
    "\n",
    "print(mean1)\n",
    "print(mean2)\n",
    "print(std1)\n",
    "print(std2)\n",
    "print(r)\n",
    "r_1=np.corrcoef(np_x_1,np_x_2)\n",
    "r_2=r_1[0,1]\n",
    "print(r_2)\n",
    "\n"
   ]
  }
 ],
 "metadata": {
  "kernelspec": {
   "display_name": "base",
   "language": "python",
   "name": "python3"
  },
  "language_info": {
   "codemirror_mode": {
    "name": "ipython",
    "version": 3
   },
   "file_extension": ".py",
   "mimetype": "text/x-python",
   "name": "python",
   "nbconvert_exporter": "python",
   "pygments_lexer": "ipython3",
   "version": "3.13.5"
  },
  "toc": {
   "base_numbering": 1,
   "nav_menu": {},
   "number_sections": true,
   "sideBar": true,
   "skip_h1_title": false,
   "title_cell": "Table of Contents",
   "title_sidebar": "Contents",
   "toc_cell": false,
   "toc_position": {},
   "toc_section_display": true,
   "toc_window_display": false
  }
 },
 "nbformat": 4,
 "nbformat_minor": 5
}
