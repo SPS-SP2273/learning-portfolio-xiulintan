{
 "cells": [
  {
   "attachments": {},
   "cell_type": "markdown",
   "id": "123456",
   "metadata": {},
   "source": [
    "<div style=\"text-align:left;font-size:2em\"><span style=\"font-weight:bolder;font-size:1.25em\">SP2273 | Learning Portfolio</span><br><br><span style=\"font-weight:bold;color:darkred\">Loops (Need) Exercises</span></div>"
   ]
  },
  {
   "cell_type": "markdown",
   "id": "dba36aea",
   "metadata": {},
   "source": [
    "## Exercise 1 (Celcius to Fahrenheit)"
   ]
  },
  {
   "cell_type": "code",
   "execution_count": 9,
   "id": "bbf29933",
   "metadata": {},
   "outputs": [],
   "source": [
    "import numpy as np"
   ]
  },
  {
   "cell_type": "code",
   "execution_count": 10,
   "id": "b2f3c3f3",
   "metadata": {},
   "outputs": [
    {
     "name": "stdout",
     "output_type": "stream",
     "text": [
      "Celsius, Fahrenheit: 0,32.0\n",
      "Celsius, Fahrenheit: 5,41.0\n",
      "Celsius, Fahrenheit: 10,50.0\n",
      "Celsius, Fahrenheit: 15,59.0\n",
      "Celsius, Fahrenheit: 20,68.0\n",
      "Celsius, Fahrenheit: 25,77.0\n",
      "Celsius, Fahrenheit: 30,86.0\n",
      "Celsius, Fahrenheit: 35,95.0\n",
      "Celsius, Fahrenheit: 40,104.0\n",
      "Celsius, Fahrenheit: 45,113.0\n",
      "Celsius, Fahrenheit: 50,122.0\n"
     ]
    }
   ],
   "source": [
    "temperatures_celsius = np.array([0, 5, 10, 15, 20, 25,  # np.array must always use ()!\n",
    "                        30, 35, 40, 45, 50])\n",
    "temp_celsius=temperatures_celsius.astype(int)\n",
    "temperatures_fahrenheit = (temp_celsius*9/5)+32\n",
    "\n",
    "for index, celsius in enumerate(temp_celsius): \n",
    "    fahrenheit=temperatures_fahrenheit[index]\n",
    "    print(f\"Celsius, Fahrenheit: {celsius},{fahrenheit}\")"
   ]
  },
  {
   "cell_type": "markdown",
   "id": "6c74dd31",
   "metadata": {},
   "source": [
    "## Exercise 2 (Multiplication table)"
   ]
  },
  {
   "cell_type": "markdown",
   "id": "d4ce8dc1",
   "metadata": {},
   "source": [
    "Example"
   ]
  },
  {
   "cell_type": "code",
   "execution_count": 11,
   "id": "39a5bc77",
   "metadata": {},
   "outputs": [
    {
     "name": "stdout",
     "output_type": "stream",
     "text": [
      "A1\tA2\tA3\t\n",
      "\n",
      "B1\tB2\tB3\t\n",
      "\n",
      "C1\tC2\tC3\t\n",
      "\n"
     ]
    }
   ],
   "source": [
    "for letter in ['A', 'B', 'C']:\n",
    "    for number in [1, 2, 3]:\n",
    "        print(f'{letter}{number}', end='\\t')\n",
    "    print('\\n')"
   ]
  },
  {
   "cell_type": "markdown",
   "id": "35830dc8",
   "metadata": {},
   "source": [
    "Task"
   ]
  },
  {
   "cell_type": "code",
   "execution_count": 31,
   "id": "82a5edc1",
   "metadata": {},
   "outputs": [
    {
     "name": "stdout",
     "output_type": "stream",
     "text": [
      "1:1\t2\t3\t4\t5\t\n",
      "2:2\t4\t6\t8\t10\t\n",
      "3:3\t6\t9\t12\t15\t\n",
      "4:4\t8\t12\t16\t20\t\n",
      "5:5\t10\t15\t20\t25\t\n"
     ]
    }
   ],
   "source": [
    "for i in range(1,6):\n",
    "    print(f\"{i}:\", end=\"\")      # counter outside\n",
    "    for j in range(1,6):        # range of multiplication\n",
    "        product=i*j             # formula to get product\n",
    "        print(f\"{product}\", end='\\t')\n",
    "    print()"
   ]
  },
  {
   "cell_type": "markdown",
   "id": "296885fe",
   "metadata": {},
   "source": [
    "## Exercise 3 (Simulating a Coin Flip Experiment)"
   ]
  },
  {
   "cell_type": "markdown",
   "id": "4dd340c5",
   "metadata": {},
   "source": [
    "Example"
   ]
  },
  {
   "cell_type": "code",
   "execution_count": 39,
   "id": "a9e23ee8",
   "metadata": {},
   "outputs": [
    {
     "data": {
      "text/plain": [
       "array([0.42247483, 0.83613584, 0.45298355, 0.00961331, 0.26104553,\n",
       "       0.79971924, 0.66229984, 0.94407163, 0.01098407, 0.1933117 ])"
      ]
     },
     "execution_count": 39,
     "metadata": {},
     "output_type": "execute_result"
    }
   ],
   "source": [
    "np.random.rand(10)     # 10 for 10 numbers"
   ]
  },
  {
   "cell_type": "markdown",
   "id": "2984f519",
   "metadata": {},
   "source": [
    "Task"
   ]
  },
  {
   "cell_type": "code",
   "execution_count": 54,
   "id": "ab88c1e1",
   "metadata": {},
   "outputs": [
    {
     "name": "stdout",
     "output_type": "stream",
     "text": [
      "Experinment  1 : No. of Heads =  4\n",
      "Experinment  2 : No. of Heads =  6\n",
      "Experinment  3 : No. of Heads =  7\n",
      "Experinment  4 : No. of Heads =  3\n",
      "Experinment  5 : No. of Heads =  5\n",
      "Experinment  6 : No. of Heads =  5\n",
      "Experinment  7 : No. of Heads =  3\n",
      "Experinment  8 : No. of Heads =  6\n",
      "Experinment  9 : No. of Heads =  4\n",
      "Experinment  10 : No. of Heads =  6\n"
     ]
    }
   ],
   "source": [
    "for x in range(1,11):   # counter\n",
    "    head = 0 # starts the count of heads at 0\n",
    "    for n in np.random.rand(10): # this step generates the 10 numbers \n",
    "        # n is the variable for the 10 numbers generated\n",
    "        if n > 0.5: # sets condition for n\n",
    "            head += 1 # adds 1 for every n>0.5\n",
    "\n",
    "    print(f\"Experinment \",x, \": No. of Heads = \", head)\n",
    " "
   ]
  }
 ],
 "metadata": {
  "kernelspec": {
   "display_name": "base",
   "language": "python",
   "name": "python3"
  },
  "language_info": {
   "codemirror_mode": {
    "name": "ipython",
    "version": 3
   },
   "file_extension": ".py",
   "mimetype": "text/x-python",
   "name": "python",
   "nbconvert_exporter": "python",
   "pygments_lexer": "ipython3",
   "version": "3.13.5"
  },
  "toc": {
   "base_numbering": 1,
   "nav_menu": {},
   "number_sections": true,
   "sideBar": true,
   "skip_h1_title": false,
   "title_cell": "Table of Contents",
   "title_sidebar": "Contents",
   "toc_cell": false,
   "toc_position": {},
   "toc_section_display": true,
   "toc_window_display": false
  }
 },
 "nbformat": 4,
 "nbformat_minor": 5
}
