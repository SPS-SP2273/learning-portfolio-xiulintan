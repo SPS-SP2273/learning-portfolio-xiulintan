{
 "cells": [
  {
   "attachments": {},
   "cell_type": "markdown",
   "id": "123456",
   "metadata": {},
   "source": [
    "<div style=\"text-align:left;font-size:2em\"><span style=\"font-weight:bolder;font-size:1.25em\">SP2273 | Learning Portfolio</span><br><br><span style=\"font-weight:bold;color:darkred\">Loops (Good) Exercises</span></div>"
   ]
  },
  {
   "cell_type": "markdown",
   "id": "5562d5e8",
   "metadata": {},
   "source": [
    "## Exercise 1 (Make me an odd list)"
   ]
  },
  {
   "cell_type": "code",
   "execution_count": 33,
   "id": "57caf557",
   "metadata": {},
   "outputs": [
    {
     "name": "stdout",
     "output_type": "stream",
     "text": [
      "[1, 9, 25, 49, 81]\n"
     ]
    }
   ],
   "source": [
    "output=[]                       # initiailises an empty list named output to store final data\n",
    "for x in range(10):        \n",
    "    if x%2==1:\n",
    "        square=x**2\n",
    "        output.append(square)  # appends current value of square to the output list, building new list\n",
    "\n",
    "print(output)"
   ]
  },
  {
   "cell_type": "code",
   "execution_count": 36,
   "id": "1faee4cb",
   "metadata": {},
   "outputs": [
    {
     "name": "stdout",
     "output_type": "stream",
     "text": [
      "[1, 9, 25, 49, 81]\n"
     ]
    }
   ],
   "source": [
    "odd=[]                      # this mtd generates an odd list first\n",
    "for x in range(10):\n",
    "     if x%2==0:\n",
    "        continue\n",
    "     odd.append(x)\n",
    "\n",
    "odd_squares=[]\n",
    "for odd_number in odd:\n",
    "    odd_numbers=odd_number**2\n",
    "    odd_squares.append(odd_numbers)\n",
    "\n",
    "print(odd_squares)     "
   ]
  },
  {
   "cell_type": "markdown",
   "id": "f76785e6",
   "metadata": {},
   "source": [
    "## Exercise 2 (Make me another odd list)"
   ]
  },
  {
   "cell_type": "code",
   "execution_count": 2,
   "id": "31acd358",
   "metadata": {},
   "outputs": [
    {
     "data": {
      "text/plain": [
       "[1, 3, 5, 7, 9]"
      ]
     },
     "execution_count": 2,
     "metadata": {},
     "output_type": "execute_result"
    }
   ],
   "source": [
    "[number for number in range(10) if number%2==1]"
   ]
  },
  {
   "cell_type": "markdown",
   "id": "8a8b7297",
   "metadata": {},
   "source": [
    "## Exercise 3 (Time me!)"
   ]
  },
  {
   "cell_type": "markdown",
   "id": "289053ee",
   "metadata": {},
   "source": [
    "Method 1"
   ]
  },
  {
   "cell_type": "code",
   "execution_count": 35,
   "id": "4074d601",
   "metadata": {},
   "outputs": [
    {
     "name": "stdout",
     "output_type": "stream",
     "text": [
      "1.68 μs ± 45.2 ns per loop (mean ± std. dev. of 7 runs, 100,000 loops each)\n"
     ]
    }
   ],
   "source": [
    "%%timeit        # exclude print when using %%timeit cos it suppresses the command\n",
    "\n",
    "output=[]                       \n",
    "for x in range(10):        \n",
    "    if x%2==1:\n",
    "        square=x**2\n",
    "        output.append(square) "
   ]
  },
  {
   "cell_type": "code",
   "execution_count": 39,
   "id": "77d0c309",
   "metadata": {},
   "outputs": [
    {
     "name": "stdout",
     "output_type": "stream",
     "text": [
      "1.98 μs ± 45.6 ns per loop (mean ± std. dev. of 7 runs, 100,000 loops each)\n"
     ]
    }
   ],
   "source": [
    "%%timeit\n",
    "odd=[]                      # this mtd generates an odd list first\n",
    "for x in range(10):\n",
    "     if x%2==0:\n",
    "        continue\n",
    "     odd.append(x)\n",
    "\n",
    "odd_squares=[]\n",
    "for odd_number in odd:\n",
    "    odd_numbers=odd_number**2\n",
    "    odd_squares.append(odd_numbers)"
   ]
  },
  {
   "cell_type": "markdown",
   "id": "da4e336d",
   "metadata": {},
   "source": [
    "Method 2"
   ]
  },
  {
   "cell_type": "code",
   "execution_count": 15,
   "id": "59f1fd7b",
   "metadata": {},
   "outputs": [
    {
     "name": "stdout",
     "output_type": "stream",
     "text": [
      "1.16 μs ± 43.5 ns per loop (mean ± std. dev. of 7 runs, 1,000,000 loops each)\n"
     ]
    }
   ],
   "source": [
    "%timeit [number for number in range(10) if number%2==1]"
   ]
  },
  {
   "cell_type": "markdown",
   "id": "e7177336",
   "metadata": {},
   "source": [
    "The second method is faster than the first method. "
   ]
  },
  {
   "cell_type": "markdown",
   "id": "483b124c",
   "metadata": {},
   "source": [
    "## Exercise 4 (A problem of decay)"
   ]
  },
  {
   "cell_type": "code",
   "execution_count": 24,
   "id": "ddc870c9",
   "metadata": {},
   "outputs": [
    {
     "name": "stdout",
     "output_type": "stream",
     "text": [
      "The time taken for sample to reduce to half its original amount: 14 hours\n"
     ]
    }
   ],
   "source": [
    "time=0\n",
    "sample=100.0\n",
    "target_value=initial_sample/2\n",
    "\n",
    "while sample>target_value:\n",
    "    sample*=0.95\n",
    "    time+=1\n",
    "    if sample==100/2:\n",
    "        break\n",
    "print(f\"The time taken for sample to reduce to half its original amount:\",time,\"hours\")"
   ]
  },
  {
   "cell_type": "markdown",
   "id": "7c687aaa",
   "metadata": {},
   "source": [
    "## Exercise 5 (Changes in CO<sub>2</sub>)"
   ]
  },
  {
   "cell_type": "code",
   "execution_count": 31,
   "id": "80281452",
   "metadata": {},
   "outputs": [
    {
     "name": "stdout",
     "output_type": "stream",
     "text": [
      "Year: 2016, Change: 3.41ppm\n"
     ]
    }
   ],
   "source": [
    "co2_data = [\n",
    "    (2000, 369.55), (2001, 371.14), (2002, 373.28), \n",
    "    (2003, 375.80), (2004, 377.52), (2005, 379.80), \n",
    "    (2006, 381.90), (2007, 383.79), (2008, 385.60), \n",
    "    (2009, 387.43), (2010, 389.90), (2011, 391.65), \n",
    "    (2012, 393.85), (2013, 396.52), (2014, 398.65),\n",
    "    (2015, 400.83), (2016, 404.24), (2017, 406.55), \n",
    "    (2018, 408.52), (2019, 411.44), (2020, 414.24)\n",
    "]\n",
    "\n",
    "for i in range(1,len(co2_data)):\n",
    "    current_yr_data=co2_data[i] \n",
    "    previous_yr_data=co2_data[i-1]\n",
    "\n",
    "    current_co2=current_yr_data[1] \n",
    "    previous_co2=previous_yr_data[1]\n",
    "    current_yr=current_yr_data[0]\n",
    "\n",
    "    co2_change=current_co2-previous_co2\n",
    "\n",
    "    if co2_change>=3.0:\n",
    "        print(f\"Year: {current_yr}, Change: {co2_change:.2f}ppm\")"
   ]
  }
 ],
 "metadata": {
  "kernelspec": {
   "display_name": "base",
   "language": "python",
   "name": "python3"
  },
  "language_info": {
   "codemirror_mode": {
    "name": "ipython",
    "version": 3
   },
   "file_extension": ".py",
   "mimetype": "text/x-python",
   "name": "python",
   "nbconvert_exporter": "python",
   "pygments_lexer": "ipython3",
   "version": "3.13.5"
  },
  "toc": {
   "base_numbering": 1,
   "nav_menu": {},
   "number_sections": true,
   "sideBar": true,
   "skip_h1_title": false,
   "title_cell": "Table of Contents",
   "title_sidebar": "Contents",
   "toc_cell": false,
   "toc_position": {},
   "toc_section_display": true,
   "toc_window_display": false
  }
 },
 "nbformat": 4,
 "nbformat_minor": 5
}
