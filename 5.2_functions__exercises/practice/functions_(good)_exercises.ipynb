{
 "cells": [
  {
   "attachments": {},
   "cell_type": "markdown",
   "id": "123456",
   "metadata": {},
   "source": [
    "<div style=\"text-align:left;font-size:2em\"><span style=\"font-weight:bolder;font-size:1.25em\">SP2273 | Learning Portfolio</span><br><br><span style=\"font-weight:bold;color:darkred\">Functions (Good) Exercises</span></div>"
   ]
  },
  {
   "cell_type": "markdown",
   "id": "3534fe86",
   "metadata": {},
   "source": [
    "## Exercise 1 (Celsius to Fahrenheit or Kelvin)"
   ]
  },
  {
   "cell_type": "code",
   "execution_count": 21,
   "id": "cf3cd6f9",
   "metadata": {},
   "outputs": [
    {
     "data": {
      "text/plain": [
       "'86.0, Fahrenheit'"
      ]
     },
     "execution_count": 21,
     "metadata": {},
     "output_type": "execute_result"
    }
   ],
   "source": [
    "def convert_celsius(temperature_celsius, target_scale):\n",
    "    if target_scale== 'Celsius':\n",
    "        return f'Error'\n",
    "    elif target_scale == 'Kelvin': \n",
    "        return f'{temperature_celsius+273.15}, {target_scale}'\n",
    "    else:\n",
    "        return f'{(temperature_celsius*9/5)+32}, Fahrenheit'\n",
    "    \n",
    "convert_celsius(30, 'Kelvin')\n",
    "convert_celsius(30, 'Fahrenheit')"
   ]
  },
  {
   "cell_type": "markdown",
   "id": "aa8428db",
   "metadata": {},
   "source": [
    "## Exercise 2 (Fahrenheit to Celsius or Kelvin)"
   ]
  },
  {
   "cell_type": "code",
   "execution_count": 20,
   "id": "2ccc2193",
   "metadata": {},
   "outputs": [
    {
     "data": {
      "text/plain": [
       "'37.77777777777778, Celsius'"
      ]
     },
     "execution_count": 20,
     "metadata": {},
     "output_type": "execute_result"
    }
   ],
   "source": [
    "def convert_fahrenheit(temperature_fahrenheit, target_scale):\n",
    "    if target_scale=='Fahrenheit':\n",
    "        return f'Error'\n",
    "    elif target_scale=='Kelvin':\n",
    "        return f'{((temperature_fahrenheit-32)*5/9)+273.15}, Kelvin'\n",
    "    else:\n",
    "        return f'{(temperature_fahrenheit-32)*5/9}, Celsius'\n",
    "    \n",
    "convert_fahrenheit(100, 'Kelvin')\n",
    "convert_fahrenheit(100, 'Celsius')"
   ]
  },
  {
   "cell_type": "markdown",
   "id": "2c0ae44d",
   "metadata": {},
   "source": [
    "## Exercise 3 (General Temperature Conversion)"
   ]
  },
  {
   "cell_type": "code",
   "execution_count": 18,
   "id": "6f6d95a5",
   "metadata": {},
   "outputs": [
    {
     "data": {
      "text/plain": [
       "'86.0, Fahrenheit'"
      ]
     },
     "execution_count": 18,
     "metadata": {},
     "output_type": "execute_result"
    }
   ],
   "source": [
    "def convert_temperature(temperature, source_scale, target_scale):\n",
    "    if source_scale == target_scale:\n",
    "        return f'Please select different scale for source and target!'\n",
    "    elif source_scale == 'Celsius':\n",
    "        return convert_celsius(temperature, target_scale)\n",
    "    elif source_scale == 'Fahrenheit':\n",
    "        return convert_fahrenheit(temperature, target_scale)\n",
    "    else:\n",
    "        if target_scale== 'Celsius':\n",
    "            return f'{temperature-273.15}, Celsius'\n",
    "        else:\n",
    "            return f'{((temperature-273.15)*9/5)+32}, Fahrenheit'\n",
    "        \n",
    "convert_temperature(30, 'Celsius','Fahrenheit')"
   ]
  },
  {
   "cell_type": "code",
   "execution_count": 1,
   "id": "6b82a241",
   "metadata": {},
   "outputs": [
    {
     "name": "stdout",
     "output_type": "stream",
     "text": [
      "86.0, Fahrenheit\n",
      "30.0, Celsius\n",
      "86.0, Fahrenheit\n",
      "Invalid source scale: 'InvalidScale'. Please use 'Celsius', 'Fahrenheit', or 'Kelvin'.\n"
     ]
    }
   ],
   "source": [
    "def convert_temperature(temperature, source_scale, target_scale):\n",
    "    # List of valid temperature scales\n",
    "    valid_scales = ['Celsius', 'Fahrenheit', 'Kelvin']\n",
    "    \n",
    "    # Check if the source or target scales are valid\n",
    "    if source_scale not in valid_scales:\n",
    "        return f\"Invalid source scale: '{source_scale}'. Please use 'Celsius', 'Fahrenheit', or 'Kelvin'.\"\n",
    "    if target_scale not in valid_scales:\n",
    "        return f\"Invalid target scale: '{target_scale}'. Please use 'Celsius', 'Fahrenheit', or 'Kelvin'.\"\n",
    "\n",
    "    # Handle cases where source and target scales are the same\n",
    "    if source_scale == target_scale:\n",
    "        return f'Please select different scales for source and target!'\n",
    "\n",
    "    # Handle temperature conversions\n",
    "    if source_scale == 'Celsius':\n",
    "        if target_scale == 'Fahrenheit':\n",
    "            return f'{(temperature * 9/5) + 32}, Fahrenheit'\n",
    "        elif target_scale == 'Kelvin':\n",
    "            return f'{temperature + 273.15}, Kelvin'\n",
    "    \n",
    "    elif source_scale == 'Fahrenheit':\n",
    "        if target_scale == 'Celsius':\n",
    "            return f'{(temperature - 32) * 5/9}, Celsius'\n",
    "        elif target_scale == 'Kelvin':\n",
    "            return f'{(temperature - 32) * 5/9 + 273.15}, Kelvin'\n",
    "            \n",
    "    elif source_scale == 'Kelvin':\n",
    "        if target_scale == 'Celsius':\n",
    "            return f'{temperature - 273.15}, Celsius'\n",
    "        elif target_scale == 'Fahrenheit':\n",
    "            return f'{((temperature - 273.15) * 9/5) + 32}, Fahrenheit'\n",
    "\n",
    "# Example Usage\n",
    "print(convert_temperature(30, 'Celsius', 'Fahrenheit'))\n",
    "print(convert_temperature(86, 'Fahrenheit', 'Celsius'))\n",
    "print(convert_temperature(303.15, 'Kelvin', 'Fahrenheit'))\n",
    "print(convert_temperature(50, 'InvalidScale', 'Celsius'))"
   ]
  }
 ],
 "metadata": {
  "kernelspec": {
   "display_name": "base",
   "language": "python",
   "name": "python3"
  },
  "language_info": {
   "codemirror_mode": {
    "name": "ipython",
    "version": 3
   },
   "file_extension": ".py",
   "mimetype": "text/x-python",
   "name": "python",
   "nbconvert_exporter": "python",
   "pygments_lexer": "ipython3",
   "version": "3.13.5"
  },
  "toc": {
   "base_numbering": 1,
   "nav_menu": {},
   "number_sections": true,
   "sideBar": true,
   "skip_h1_title": false,
   "title_cell": "Table of Contents",
   "title_sidebar": "Contents",
   "toc_cell": false,
   "toc_position": {},
   "toc_section_display": true,
   "toc_window_display": false
  }
 },
 "nbformat": 4,
 "nbformat_minor": 5
}
