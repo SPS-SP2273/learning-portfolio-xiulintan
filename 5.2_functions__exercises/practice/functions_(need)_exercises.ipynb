{
 "cells": [
  {
   "attachments": {},
   "cell_type": "markdown",
   "id": "123456",
   "metadata": {},
   "source": [
    "<div style=\"text-align:left;font-size:2em\"><span style=\"font-weight:bolder;font-size:1.25em\">SP2273 | Learning Portfolio</span><br><br><span style=\"font-weight:bold;color:darkred\">Functions (Need) Exercises</span></div>"
   ]
  },
  {
   "cell_type": "markdown",
   "id": "3e41ef0a",
   "metadata": {},
   "source": [
    "## Exercise 1 (Do you know why?)"
   ]
  },
  {
   "cell_type": "code",
   "execution_count": 1,
   "id": "8a61e1d6",
   "metadata": {},
   "outputs": [],
   "source": [
    "def greeting(name):\n",
    "    if name=='Batman':\n",
    "        return 'Hello Batman! So, nice to meet you!'\n",
    "    return f'Hello {name}!'"
   ]
  },
  {
   "cell_type": "markdown",
   "id": "666df8d9",
   "metadata": {},
   "source": [
    "The code is a definition code for the function greeting(name). Given that if was used, an else is expected. However, since return is used, the else is not required. If the name 'Batman' is used, the 3rd line is immediately executed. If any other name is used, the function continues to the next line (4th) and returns 'Hello {name}!' and ends. "
   ]
  },
  {
   "cell_type": "markdown",
   "id": "deebef95",
   "metadata": {},
   "source": [
    "## Exercise 2 (Chubby or not)"
   ]
  },
  {
   "cell_type": "code",
   "execution_count": 5,
   "id": "a9d7a42d",
   "metadata": {},
   "outputs": [],
   "source": [
    "def calculate_bmi(weight,height):\n",
    "    bmi=weight/(height**2)\n",
    "    if bmi<18.5:\n",
    "        return f'BMI: Underweight'\n",
    "    elif bmi>= 18.5 and bmi<25:\n",
    "        return f'BMI: Normal weight'\n",
    "    elif bmi>=25 and bmi<30:\n",
    "        return f'BMI: Overweight'\n",
    "    else:\n",
    "        return f'BMI: Obese'"
   ]
  },
  {
   "cell_type": "code",
   "execution_count": 4,
   "id": "6fefbc8e",
   "metadata": {},
   "outputs": [],
   "source": [
    "def calculate_bmi (weight, height):\n",
    "    bmi=weight/(height**2)\n",
    "    if bmi<0:\n",
    "        return f'invalid inputs'\n",
    "    elif bmi<18.5:\n",
    "        return f'underweight'\n",
    "    elif 18.5<=bmi<25:\n",
    "        return f'normal weight'\n",
    "    elif 25<=bmi<30:\n",
    "        return f'overweight'\n",
    "    return f'overweight'"
   ]
  },
  {
   "cell_type": "code",
   "execution_count": 5,
   "id": "a735a0f7",
   "metadata": {},
   "outputs": [
    {
     "name": "stdout",
     "output_type": "stream",
     "text": [
      "normal weight\n"
     ]
    }
   ],
   "source": [
    "print(calculate_bmi(76.4,1.75))     # test"
   ]
  },
  {
   "cell_type": "markdown",
   "id": "9d5926e9",
   "metadata": {},
   "source": [
    "## Exercise 3 (Factorials)"
   ]
  },
  {
   "cell_type": "code",
   "execution_count": 22,
   "id": "81f2eb1c",
   "metadata": {},
   "outputs": [],
   "source": [
    "def factorial(n):\n",
    "    if n<0:\n",
    "        return f'n must be a positive integer.' # handles negative numbers\n",
    "    elif n==0:      # handles n=0\n",
    "        return 1\n",
    "    elif isinstance(n, int):        # handles non-integer\n",
    "        print(f'Input is a valid integer. ')\n",
    "        result=1\n",
    "        for number in range(2,n+1):     # fundamentals good exercise recap\n",
    "            result *= number\n",
    "        return result\n",
    "    else: \n",
    "        return f'n must be a positive integer. '"
   ]
  },
  {
   "cell_type": "code",
   "execution_count": 21,
   "id": "d73148e5",
   "metadata": {},
   "outputs": [
    {
     "name": "stdout",
     "output_type": "stream",
     "text": [
      "Input is a valid integer. \n"
     ]
    },
    {
     "data": {
      "text/plain": [
       "120"
      ]
     },
     "execution_count": 21,
     "metadata": {},
     "output_type": "execute_result"
    }
   ],
   "source": [
    "'test'\n",
    "factorial(5)"
   ]
  }
 ],
 "metadata": {
  "kernelspec": {
   "display_name": "base",
   "language": "python",
   "name": "python3"
  },
  "language_info": {
   "codemirror_mode": {
    "name": "ipython",
    "version": 3
   },
   "file_extension": ".py",
   "mimetype": "text/x-python",
   "name": "python",
   "nbconvert_exporter": "python",
   "pygments_lexer": "ipython3",
   "version": "3.13.5"
  },
  "toc": {
   "base_numbering": 1,
   "nav_menu": {},
   "number_sections": true,
   "sideBar": true,
   "skip_h1_title": false,
   "title_cell": "Table of Contents",
   "title_sidebar": "Contents",
   "toc_cell": false,
   "toc_position": {},
   "toc_section_display": true,
   "toc_window_display": false
  }
 },
 "nbformat": 4,
 "nbformat_minor": 5
}
