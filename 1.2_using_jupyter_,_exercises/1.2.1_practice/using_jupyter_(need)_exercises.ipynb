{
 "cells": [
  {
   "attachments": {},
   "cell_type": "markdown",
   "id": "123456",
   "metadata": {},
   "source": [
    "<div style=\"text-align:left;font-size:2em\"><span style=\"font-weight:bolder;font-size:1.25em\">SP2273 | Learning Portfolio</span><br><br><span style=\"font-weight:bold;color:darkred\">Using Jupyter (Need), Exercises</span></div>"
   ]
  },
  {
   "cell_type": "markdown",
   "id": "8a38ddc9",
   "metadata": {},
   "source": [
    "## Exercise 1"
   ]
  },
  {
   "cell_type": "markdown",
   "id": "1cd9181d",
   "metadata": {},
   "source": [
    "### Quadratic Equations "
   ]
  },
  {
   "cell_type": "markdown",
   "id": "756191e5",
   "metadata": {},
   "source": [
    "**Introduction** <br>\n",
    "![](https://upload.wikimedia.org/wikipedia/commons/thumb/f/f8/Polynomialdeg2.svg/450px-Polynomialdeg2.svg.png)\n",
    "\n",
    "*(Image from the the [Wikipedia page on Quadratic equations](https://en.wikipedia.org/wiki/Quadratic_equation))*\n",
    "\n",
    "The general form of a quadratic equation is: \n",
    "\n",
    "$$ ax^2 + bx + c = 0 $$\n",
    "\n",
    "**Solutions** <br>\n",
    "Provided $a \\ne 0$, we can use an elementary algebraic method called [completing the square](https://en.wikipedia.org/wiki/Completing_the_square) to show that a  quadratic equation has the following solution:\n",
    "\n",
    "$$\n",
    "x=\\dfrac{-b\\pm \\sqrt{b^2-4ac}}{2a}\n",
    "$$\n",
    "\n",
    "**Discriminant** <br>\n",
    "The quantity $\\Delta = b^2 - 4ac$ is called the **discriminant** of the equation and decides the nature of its solutions. The table below shows the various possibilities. \n",
    "|Discriminant|Roots|\n",
    "|:---|:---|\n",
    "|$$\\Delta = b^2 - 4ac = 0$$|A single solution of $$-b/(2a)$$|\n",
    "|$$\\Delta = b^2 - 4ac \\gt 0$$|Two distinct solutions|\n",
    "|$$\\Delta = b^2 - 4ac \\lt 0$$|No real solutions; both are complex. |"
   ]
  },
  {
   "cell_type": "markdown",
   "id": "13a197d4",
   "metadata": {},
   "source": [
    "## Exercise 2"
   ]
  },
  {
   "cell_type": "markdown",
   "id": "f4825b9b",
   "metadata": {},
   "source": [
    "1. Git respository is an online storage point that allows you to backup all the changes made so that it can be accessed from any place in the world with a device and working Internet connection. \n",
    "1. Changes\n",
    "1. Commit is a function used to make changes to the storage folders according to the changes made on the local device\n",
    "1. Push is a function used to communicate the commands to the online server GitHub from GitHub Desktop\n",
    "1. Pull is a function used to request collaboration on the files\n",
    "1. GitHub is linked to the online storage folder while GitHub Desktop is linked to the local device folder that can push changes to GitHub. "
   ]
  },
  {
   "cell_type": "markdown",
   "id": "3971f488",
   "metadata": {},
   "source": [
    "## Exercise 3"
   ]
  },
  {
   "cell_type": "markdown",
   "id": "8c1cd7a0",
   "metadata": {},
   "source": [
    "$$\n",
    "\\mu = \\dfrac {1}{n} \\sum_{\\iota=1}^{n} {x}_{\\iota} \n",
    "$$\n",
    "\n",
    "<br>\n",
    "\n",
    "$$\n",
    "\\sigma = \\sqrt{\\dfrac{1}{n} \\sum_{\\iota=1}^{n} ({x}_{\\iota}-{\\mu})^2}\n",
    "$$\n",
    "\n",
    "<br>\n",
    "\n",
    "$$\n",
    "r= \\dfrac{\\sum_{\\iota=1}^{n} ({x}_{\\iota} - {\\mu}_{X}) ({y}_{\\iota} - {\\mu}_{Y})}{\\sqrt{\\sum_{\\iota=1}^{n} ({x}_{\\iota} - {\\mu}_{X})^2 \\sum_{\\iota=1}^{n} ({y}_{\\iota} - {\\mu}_{Y})^2}}"
   ]
  },
  {
   "cell_type": "markdown",
   "id": "65094228",
   "metadata": {},
   "source": [
    "## Others"
   ]
  }
 ],
 "metadata": {
  "kernelspec": {
   "display_name": "base",
   "language": "python",
   "name": "python3"
  },
  "language_info": {
   "codemirror_mode": {
    "name": "ipython",
    "version": 3
   },
   "file_extension": ".py",
   "mimetype": "text/x-python",
   "name": "python",
   "nbconvert_exporter": "python",
   "pygments_lexer": "ipython3",
   "version": "3.13.5"
  },
  "toc": {
   "base_numbering": 1,
   "nav_menu": {},
   "number_sections": true,
   "sideBar": true,
   "skip_h1_title": false,
   "title_cell": "Table of Contents",
   "title_sidebar": "Contents",
   "toc_cell": false,
   "toc_position": {},
   "toc_section_display": true,
   "toc_window_display": false
  }
 },
 "nbformat": 4,
 "nbformat_minor": 5
}
