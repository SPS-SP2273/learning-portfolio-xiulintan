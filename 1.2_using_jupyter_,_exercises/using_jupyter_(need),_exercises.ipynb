{
 "cells": [
  {
   "attachments": {},
   "cell_type": "markdown",
   "id": "123456",
   "metadata": {},
   "source": [
    "<div style=\"text-align:left;font-size:2em\"><span style=\"font-weight:bolder;font-size:1.25em\">SP2273 | Learning Portfolio</span><br><br><span style=\"font-weight:bold;color:darkred\">Using Jupyter (Need), Exercises</span></div>"
   ]
  },
  {
   "cell_type": "markdown",
   "id": "8a38ddc9",
   "metadata": {},
   "source": [
    "## Exercise 1"
   ]
  },
  {
   "attachments": {},
   "cell_type": "markdown",
   "id": "123456",
   "metadata": {},
   "source": [
    "### 1 Quadratic Equations"
   ]
  },
  {
   "attachments": {},
   "cell_type": "markdown",
   "id": "123456",
   "metadata": {},
   "source": [
    "#### Introduction"
   ]
  },
  {
   "cell_type": "markdown",
   "id": "905f0e0e",
   "metadata": {},
   "source": [
    "![](https://upload.wikimedia.org/wikipedia/commons/thumb/f/f8/Polynomialdeg2.svg/300px-Polynomialdeg2.svg.png)\n",
    "\n",
    "_(Image from the [Wikipedia page on Quadratic equations](https://en.wikipedia.org/wiki/Quadratic_equation))_\n",
    "\n",
    "The general form of a quadratic equation is: \n",
    "\n",
    "$$\n",
    "ax^2+bx+c=0\n",
    "$$"
   ]
  },
  {
   "attachments": {},
   "cell_type": "markdown",
   "id": "123456",
   "metadata": {},
   "source": [
    "#### Solutions"
   ]
  },
  {
   "cell_type": "markdown",
   "id": "123456",
   "metadata": {},
   "source": [
    "Provided $a \\ne 0$, we can use an elementary algebraic method called [completing the square](https://en.wikipedia.org/wiki/Completing_the_square) to show that a quadratic equation has the following solution:\n",
    "\n",
    "$$\n",
    "x=\\dfrac{-b\\pm\\sqrt{b^2-4ac}}{2a}\n",
    "$$\n"
   ]
  },
  {
   "attachments": {},
   "cell_type": "markdown",
   "id": "123456",
   "metadata": {},
   "source": [
    "#### Discriminant"
   ]
  },
  {
   "cell_type": "markdown",
   "id": "d82410e6",
   "metadata": {},
   "source": [
    "The quantity $\\Delta=b^2-4ac$ is called the **discriminant** of the equation and decides the nature of its solutions. The table below shows the various possibilities. "
   ]
  },
  {
   "cell_type": "markdown",
   "id": "123456",
   "metadata": {},
   "source": [
    "\n",
    "|Discriminant|Roots|\n",
    "|:---:|:---|\n",
    "|$\\Delta$=$b^2-4ac=0$|A single solution of $-b/(2a)$|\n",
    "|$\\Delta$=$b^2-4ac>0$|Two distinct solutions|\n",
    "|$\\Delta$=$b^2-4ac<0$|No real solutions; both are complex|\n"
   ]
  },
  {
   "cell_type": "markdown",
   "id": "13a197d4",
   "metadata": {},
   "source": [
    "## Exercise 2"
   ]
  },
  {
   "cell_type": "markdown",
   "id": "28e3ea95",
   "metadata": {},
   "source": [
    "1. A Git repository is a storage space for all the folders in the learning portfolio that syncs up like a cloud storage so it can be accessed from any device with Internet connection signed into GitHub\n",
    "1. Git keeps track of changes in the files in our repository. \n",
    "1. Commit is a confirmation of the changes made to the file.\n",
    "1. Push origins is for the changes made to the file to be conveyed from the local storage to the main file in GitHub, confirming the permanent changes to the file. \n",
    "1. Pull is a function that allows another party to access your own files in order to allow collaboration. \n",
    "1. GitHub is linked to the final document in the cloud storage file where changes made are permanent while GitHub Desktop is linked to the local storage of the file where changes that have been to the file through VS Code can be either committed and pushed to GitHub servers or deleted to preserve the file before the new changes were made. \n",
    "If GitHub Desktop was deleted, the data in the file is preserved. Functions like commit and push would still be accessible outside of GitHub Desktop through access from the terminal and code and specific code sequence. "
   ]
  },
  {
   "cell_type": "markdown",
   "id": "3971f488",
   "metadata": {},
   "source": [
    "## Exercise 3"
   ]
  },
  {
   "cell_type": "markdown",
   "id": "6035dc28",
   "metadata": {},
   "source": [
    "\n",
    "Given variables $x_{\\iota}$ and $y_{\\iota}$ represemting the ${\\iota}$ -th values in a dataset with n pairs, "
   ]
  },
  {
   "cell_type": "markdown",
   "id": "8cc6a5b7",
   "metadata": {},
   "source": [
    "$$\n",
    "\\mu = \\dfrac{1}{n} \\sum^{n}_{\\iota=1} {x}_{\\iota}\n",
    "$$"
   ]
  },
  {
   "cell_type": "markdown",
   "id": "4f04869c",
   "metadata": {},
   "source": [
    "$$\n",
    "\\sigma = \\sqrt {\\dfrac{1}{n} \\sum^{n}_{\\iota=1} ({{x}_{\\iota}-\\mu})^2}\n",
    "$$"
   ]
  },
  {
   "cell_type": "markdown",
   "id": "36744d35",
   "metadata": {},
   "source": [
    "$$\n",
    "r= \\dfrac {\\sum^{n}_{\\iota=1} (x_{\\iota} - \\mu_X)(y_{\\iota} - \\mu_Y)}{\\sqrt { \\sum^{n}_{\\iota=1} (x_{\\iota} - \\mu_X)^2 \\sum^{n}_{\\iota=1} (y_\\iota - \\mu_Y)^2}}\n",
    "$$"
   ]
  },
  {
   "cell_type": "markdown",
   "id": "65094228",
   "metadata": {},
   "source": [
    "## Others"
   ]
  },
  {
   "cell_type": "markdown",
   "id": "3c95685c",
   "metadata": {},
   "source": [
    "$\\sin(\\theta)$"
   ]
  },
  {
   "cell_type": "markdown",
   "id": "f01e89c6",
   "metadata": {},
   "source": [
    "$sin(\\theta)$"
   ]
  },
  {
   "cell_type": "markdown",
   "id": "c070ae4d",
   "metadata": {},
   "source": [
    "With a backslash in front, sin is treated as a trigonometric function. Without the backslash in front, sin is treated as 3 separate variables -- s, i and n. "
   ]
  }
 ],
 "metadata": {
  "kernelspec": {
   "display_name": "base",
   "language": "python",
   "name": "python3"
  },
  "language_info": {
   "codemirror_mode": {
    "name": "ipython",
    "version": 3
   },
   "file_extension": ".py",
   "mimetype": "text/x-python",
   "name": "python",
   "nbconvert_exporter": "python",
   "pygments_lexer": "ipython3",
   "version": "3.13.5"
  },
  "toc": {
   "base_numbering": 1,
   "nav_menu": {},
   "number_sections": true,
   "sideBar": true,
   "skip_h1_title": false,
   "title_cell": "Table of Contents",
   "title_sidebar": "Contents",
   "toc_cell": false,
   "toc_position": {},
   "toc_section_display": true,
   "toc_window_display": false
  }
 },
 "nbformat": 4,
 "nbformat_minor": 5
}
